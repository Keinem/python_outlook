{
 "cells": [
  {
   "cell_type": "code",
   "execution_count": 1,
   "metadata": {
    "collapsed": false
   },
   "outputs": [],
   "source": [
    "import dill\n",
    "with open(r\"C:\\Users\\212392510\\Desktop\\共有用\\02_D_EF\\20170317_CF LOSS\\MBD20170404.dill\",\"rb\") as f:\n",
    "    MBD = dill.load(f)"
   ]
  },
  {
   "cell_type": "code",
   "execution_count": 5,
   "metadata": {
    "collapsed": false
   },
   "outputs": [
    {
     "name": "stderr",
     "output_type": "stream",
     "text": [
      "C:\\Users\\212392510\\AppData\\Local\\Continuum\\Anaconda3\\lib\\site-packages\\IPython\\core\\interactiveshell.py:2723: DtypeWarning:\n",
      "\n",
      "Columns (5,6,19,20,22,23,24,25,26,28,29,30,32,40,43,48,54,59,61,67,69,71,73,74,75,77,78,80,81,87,93,94,95,96,105,116,117,118,120,121,122,125) have mixed types. Specify dtype option on import or set low_memory=False.\n",
      "\n"
     ]
    }
   ],
   "source": [
    "CFENT = pd.read_csv(r\"C:\\Users\\212392510\\Desktop\\共有用\\02_D_EF\\20170317_CF LOSS\\ACC-DCG_LIST_CF_2017-04-05-05-52-39.zip\",compression=\"zip\",\n",
    "                    header=0,sep='\\t',encoding=\"cp932\")"
   ]
  },
  {
   "cell_type": "code",
   "execution_count": 8,
   "metadata": {
    "collapsed": false,
    "scrolled": false
   },
   "outputs": [],
   "source": [
    "mxw.viewOnXL_new(CFENT.sample(500))"
   ]
  },
  {
   "cell_type": "markdown",
   "metadata": {},
   "source": [
    "管理債権（メールから取得）"
   ]
  },
  {
   "cell_type": "code",
   "execution_count": 9,
   "metadata": {
    "collapsed": false
   },
   "outputs": [
    {
     "name": "stderr",
     "output_type": "stream",
     "text": [
      "C:\\Users\\212392510\\AppData\\Local\\Continuum\\Anaconda3\\lib\\site-packages\\ipykernel\\__main__.py:16: FutureWarning:\n",
      "\n",
      "currently extract(expand=None) means expand=False (return Index/Series/DataFrame) but in a future version of pandas this will be changed to expand=True (return DataFrame)\n",
      "\n"
     ]
    }
   ],
   "source": [
    "import win32com.client\n",
    "import re\n",
    "\n",
    "obj = win32com.client.Dispatch(\"Outlook.Application\")\n",
    "ns = obj.GetNamespace(\"MAPI\")\n",
    "folder = ns.GetDefaultFolder(6)\n",
    "\n",
    "fold = folder.Folders(r\"管理債権\")\n",
    "\n",
    "cnt = 0\n",
    "data = pd.DataFrame()\n",
    "for i in fold.Items:\n",
    "    data = pd.concat([data,pd.DataFrame({0:{'SUB':i.Subject,'Date':str(i.SentOn)}}).T],axis=0,ignore_index=True)\n",
    "\n",
    "data.Date = pd.to_datetime(data.Date)\n",
    "data.loc[:,'SUM_CD'] = data.SUB.str.extract('[\\(|（](?P<hit>[A-Z0-9]+?)[\\)|）]')"
   ]
  },
  {
   "cell_type": "code",
   "execution_count": 10,
   "metadata": {
    "collapsed": false
   },
   "outputs": [
    {
     "data": {
      "text/html": [
       "<div>\n",
       "<table border=\"1\" class=\"dataframe\">\n",
       "  <thead>\n",
       "    <tr style=\"text-align: right;\">\n",
       "      <th></th>\n",
       "      <th>Date</th>\n",
       "      <th>SUB</th>\n",
       "      <th>SUM_CD</th>\n",
       "    </tr>\n",
       "  </thead>\n",
       "  <tbody>\n",
       "    <tr>\n",
       "      <th>146</th>\n",
       "      <td>2017-04-05 11:07:21</td>\n",
       "      <td>＜開封パスワード＞　 【GYL新規管理債権】　有）新田食品    (G12957）  元本残...</td>\n",
       "      <td>G12957</td>\n",
       "    </tr>\n",
       "    <tr>\n",
       "      <th>145</th>\n",
       "      <td>2017-04-05 11:06:39</td>\n",
       "      <td>【GYL新規管理債権】　有）新田食品    (G12957）  元本残 0.1百万円　 / ...</td>\n",
       "      <td>G12957</td>\n",
       "    </tr>\n",
       "    <tr>\n",
       "      <th>143</th>\n",
       "      <td>2017-04-05 10:33:44</td>\n",
       "      <td>＜開封パスワード＞　 【CF 新規管理債権】　吉田　晋務　吉田工作所   (644342） ...</td>\n",
       "      <td>644342</td>\n",
       "    </tr>\n",
       "    <tr>\n",
       "      <th>144</th>\n",
       "      <td>2017-04-05 10:33:04</td>\n",
       "      <td>【CF 新規管理債権】　吉田　晋務　吉田工作所   (644342）  元本残 18.9百万...</td>\n",
       "      <td>644342</td>\n",
       "    </tr>\n",
       "    <tr>\n",
       "      <th>134</th>\n",
       "      <td>2017-03-29 09:49:30</td>\n",
       "      <td>RE: 3/28/17 Collections Monthly Dashboard Revi...</td>\n",
       "      <td>NaN</td>\n",
       "    </tr>\n",
       "    <tr>\n",
       "      <th>135</th>\n",
       "      <td>2017-03-29 09:28:23</td>\n",
       "      <td>RE: 3/28/17 Collections Monthly Dashboard Revi...</td>\n",
       "      <td>NaN</td>\n",
       "    </tr>\n",
       "    <tr>\n",
       "      <th>136</th>\n",
       "      <td>2017-03-29 09:06:34</td>\n",
       "      <td>RE: 3/28/17 Collections Monthly Dashboard Revi...</td>\n",
       "      <td>NaN</td>\n",
       "    </tr>\n",
       "    <tr>\n",
       "      <th>124</th>\n",
       "      <td>2017-03-27 16:56:40</td>\n",
       "      <td>【CF 新規管理債権】　（株）名星企画　 (656358）  元本残 14.7百万円　 / ...</td>\n",
       "      <td>656358</td>\n",
       "    </tr>\n",
       "    <tr>\n",
       "      <th>123</th>\n",
       "      <td>2017-03-27 16:53:06</td>\n",
       "      <td>＜開封パスワード＞　 【CF 新規管理債権】　（株）DESTRUCT　 (656365）  ...</td>\n",
       "      <td>656365</td>\n",
       "    </tr>\n",
       "    <tr>\n",
       "      <th>122</th>\n",
       "      <td>2017-03-27 16:51:36</td>\n",
       "      <td>【CF 新規管理債権】　（株）DESTRUCT　 (656365）  元本残 14.7百万円...</td>\n",
       "      <td>656365</td>\n",
       "    </tr>\n",
       "    <tr>\n",
       "      <th>137</th>\n",
       "      <td>2017-03-27 14:44:39</td>\n",
       "      <td>＜開封パスワード＞　　 【CF 新規管理債権】　(有)　野辺工業　 (SHWWON）  元本...</td>\n",
       "      <td>SHWWON</td>\n",
       "    </tr>\n",
       "    <tr>\n",
       "      <th>138</th>\n",
       "      <td>2017-03-27 14:43:56</td>\n",
       "      <td>【CF 新規管理債権】　(有)　野辺工業　 (SHWWON）  元本残  44.4百万円　 ...</td>\n",
       "      <td>SHWWON</td>\n",
       "    </tr>\n",
       "    <tr>\n",
       "      <th>139</th>\n",
       "      <td>2017-03-24 17:44:57</td>\n",
       "      <td>＜開封パスワード＞　 【CF 新規管理債権】　シニアパークサポート（株） (646906） ...</td>\n",
       "      <td>646906</td>\n",
       "    </tr>\n",
       "    <tr>\n",
       "      <th>140</th>\n",
       "      <td>2017-03-24 17:44:17</td>\n",
       "      <td>【CF 新規管理債権】　シニアパークサポート（株） (646906）  元本残  9.8百万...</td>\n",
       "      <td>646906</td>\n",
       "    </tr>\n",
       "    <tr>\n",
       "      <th>141</th>\n",
       "      <td>2017-03-22 08:40:32</td>\n",
       "      <td>＜開封パスワード＞　  【CF 新規管理債権】　有）アルディマージュ (654708）  元...</td>\n",
       "      <td>654708</td>\n",
       "    </tr>\n",
       "    <tr>\n",
       "      <th>142</th>\n",
       "      <td>2017-03-22 08:39:48</td>\n",
       "      <td>【CF 新規管理債権】　有）アルディマージュ (654708）  元本残  37.2百万円...</td>\n",
       "      <td>654708</td>\n",
       "    </tr>\n",
       "    <tr>\n",
       "      <th>120</th>\n",
       "      <td>2017-03-17 10:16:11</td>\n",
       "      <td>＜開封パスワード＞　 【GYL 新規管理債権】　有）辻スポーツ店 (G12582）  元本残...</td>\n",
       "      <td>G12582</td>\n",
       "    </tr>\n",
       "    <tr>\n",
       "      <th>121</th>\n",
       "      <td>2017-03-17 10:15:19</td>\n",
       "      <td>【GYL 新規管理債権】　有）辻スポーツ店 (G12582）  元本残  1.3百万円　 /...</td>\n",
       "      <td>G12582</td>\n",
       "    </tr>\n",
       "    <tr>\n",
       "      <th>132</th>\n",
       "      <td>2017-03-10 18:29:50</td>\n",
       "      <td>＜開封パスワード＞   【CF 新規管理債権】　（株）北酪乳販 (B34192）  元本残 ...</td>\n",
       "      <td>B34192</td>\n",
       "    </tr>\n",
       "    <tr>\n",
       "      <th>133</th>\n",
       "      <td>2017-03-10 18:26:45</td>\n",
       "      <td>【CF 新規管理債権】　（株）北酪乳販 (B34192）  元本残  13.7百万円　 /...</td>\n",
       "      <td>B34192</td>\n",
       "    </tr>\n",
       "    <tr>\n",
       "      <th>109</th>\n",
       "      <td>2017-03-10 09:18:02</td>\n",
       "      <td>RE:  【CF 新規管理債権】　北緯四十度のまち（株） (662585）  元本残  10...</td>\n",
       "      <td>662585</td>\n",
       "    </tr>\n",
       "    <tr>\n",
       "      <th>110</th>\n",
       "      <td>2017-03-09 17:10:36</td>\n",
       "      <td>RE:  【CF 新規管理債権】　北緯四十度のまち（株） (662585）  元本残  10...</td>\n",
       "      <td>662585</td>\n",
       "    </tr>\n",
       "    <tr>\n",
       "      <th>111</th>\n",
       "      <td>2017-03-09 17:01:58</td>\n",
       "      <td>RE:  【CF 新規管理債権】　北緯四十度のまち（株） (662585）  元本残  10...</td>\n",
       "      <td>662585</td>\n",
       "    </tr>\n",
       "    <tr>\n",
       "      <th>112</th>\n",
       "      <td>2017-03-09 16:00:31</td>\n",
       "      <td>RE:  【CF 新規管理債権】　北緯四十度のまち（株） (662585）  元本残  10...</td>\n",
       "      <td>662585</td>\n",
       "    </tr>\n",
       "    <tr>\n",
       "      <th>113</th>\n",
       "      <td>2017-03-09 15:09:35</td>\n",
       "      <td>RE:  【CF 新規管理債権】　北緯四十度のまち（株） (662585）  元本残  10...</td>\n",
       "      <td>662585</td>\n",
       "    </tr>\n",
       "    <tr>\n",
       "      <th>114</th>\n",
       "      <td>2017-03-09 14:58:59</td>\n",
       "      <td>RE:  【CF 新規管理債権】　北緯四十度のまち（株） (662585）  元本残  10...</td>\n",
       "      <td>662585</td>\n",
       "    </tr>\n",
       "    <tr>\n",
       "      <th>115</th>\n",
       "      <td>2017-03-09 13:57:19</td>\n",
       "      <td>RE:  【CF 新規管理債権】　北緯四十度のまち（株） (662585）  元本残  10...</td>\n",
       "      <td>662585</td>\n",
       "    </tr>\n",
       "    <tr>\n",
       "      <th>116</th>\n",
       "      <td>2017-03-09 13:54:31</td>\n",
       "      <td>RE:  【CF 新規管理債権】　北緯四十度のまち（株） (662585）  元本残  10...</td>\n",
       "      <td>662585</td>\n",
       "    </tr>\n",
       "    <tr>\n",
       "      <th>117</th>\n",
       "      <td>2017-03-09 13:37:39</td>\n",
       "      <td>RE:  【CF 新規管理債権】　北緯四十度のまち（株） (662585）  元本残  10...</td>\n",
       "      <td>662585</td>\n",
       "    </tr>\n",
       "    <tr>\n",
       "      <th>84</th>\n",
       "      <td>2017-03-09 12:57:28</td>\n",
       "      <td>FW:  【CF 新規管理債権】　北緯四十度のまち（株） (662585）  元本残  10...</td>\n",
       "      <td>662585</td>\n",
       "    </tr>\n",
       "    <tr>\n",
       "      <th>...</th>\n",
       "      <td>...</td>\n",
       "      <td>...</td>\n",
       "      <td>...</td>\n",
       "    </tr>\n",
       "    <tr>\n",
       "      <th>54</th>\n",
       "      <td>2016-07-06 13:38:00</td>\n",
       "      <td>【CF 新規管理債権】 　千鳥屋こと原田良康　（588620)  元本残 　再リース　 / ...</td>\n",
       "      <td>588620</td>\n",
       "    </tr>\n",
       "    <tr>\n",
       "      <th>55</th>\n",
       "      <td>2016-07-06 13:16:03</td>\n",
       "      <td>＜開封パスワード＞　 【CF 新規管理債権】 倉八紙工 （株）（H08857)  元本残 　...</td>\n",
       "      <td>H08857</td>\n",
       "    </tr>\n",
       "    <tr>\n",
       "      <th>56</th>\n",
       "      <td>2016-07-06 13:14:57</td>\n",
       "      <td>【CF 新規管理債権】 倉八紙工 （株）（H08857)  元本残 　再リース　 / 　KCF</td>\n",
       "      <td>H08857</td>\n",
       "    </tr>\n",
       "    <tr>\n",
       "      <th>57</th>\n",
       "      <td>2016-07-04 11:56:27</td>\n",
       "      <td>RE: CFトラック - ACD開始に向けたアクション整理</td>\n",
       "      <td>NaN</td>\n",
       "    </tr>\n",
       "    <tr>\n",
       "      <th>125</th>\n",
       "      <td>2016-06-06 09:21:31</td>\n",
       "      <td>FW: 熊本地震関連　支払猶予受付状況（6/1)</td>\n",
       "      <td>NaN</td>\n",
       "    </tr>\n",
       "    <tr>\n",
       "      <th>126</th>\n",
       "      <td>2016-06-06 09:06:52</td>\n",
       "      <td>熊本地震の最新版支払猶予先リスト</td>\n",
       "      <td>NaN</td>\n",
       "    </tr>\n",
       "    <tr>\n",
       "      <th>127</th>\n",
       "      <td>2016-05-30 13:56:30</td>\n",
       "      <td>熊本地震</td>\n",
       "      <td>NaN</td>\n",
       "    </tr>\n",
       "    <tr>\n",
       "      <th>128</th>\n",
       "      <td>2016-05-23 10:28:44</td>\n",
       "      <td>本日時点の支払猶予先リスト</td>\n",
       "      <td>NaN</td>\n",
       "    </tr>\n",
       "    <tr>\n",
       "      <th>129</th>\n",
       "      <td>2016-02-29 20:34:08</td>\n",
       "      <td>RE: Siebelの案件番号とP+ Mobileの紐づけ表 最新版</td>\n",
       "      <td>NaN</td>\n",
       "    </tr>\n",
       "    <tr>\n",
       "      <th>130</th>\n",
       "      <td>2016-02-10 10:43:37</td>\n",
       "      <td>RE: Siebelの案件番号とP+ Mobileの紐づけ表</td>\n",
       "      <td>NaN</td>\n",
       "    </tr>\n",
       "    <tr>\n",
       "      <th>131</th>\n",
       "      <td>2016-01-13 15:26:56</td>\n",
       "      <td>RE: Siebelの案件番号とP+ Mobileの紐づけ表 最新版</td>\n",
       "      <td>NaN</td>\n",
       "    </tr>\n",
       "    <tr>\n",
       "      <th>0</th>\n",
       "      <td>2015-11-05 11:41:09</td>\n",
       "      <td>＜開封パスワード＞　 【CF新規管理債権】  淡路貨物自動車㈱（642485)  元本残 9...</td>\n",
       "      <td>642485</td>\n",
       "    </tr>\n",
       "    <tr>\n",
       "      <th>1</th>\n",
       "      <td>2015-11-05 11:40:09</td>\n",
       "      <td>【CF新規管理債権】  淡路貨物自動車㈱（642485)  元本残 9.7MM/ ＣＦ神戸</td>\n",
       "      <td>642485</td>\n",
       "    </tr>\n",
       "    <tr>\n",
       "      <th>2</th>\n",
       "      <td>2015-11-05 09:39:34</td>\n",
       "      <td>＜開封パスワード＞　 【CF新規管理債権】  株）壽屋（A00401)  元本残 　再リース...</td>\n",
       "      <td>A00401</td>\n",
       "    </tr>\n",
       "    <tr>\n",
       "      <th>3</th>\n",
       "      <td>2015-11-05 09:38:22</td>\n",
       "      <td>【CF新規管理債権】  株）壽屋（A00401)  元本残 　再リース　MM/ ベンダー営</td>\n",
       "      <td>A00401</td>\n",
       "    </tr>\n",
       "    <tr>\n",
       "      <th>4</th>\n",
       "      <td>2015-11-05 08:29:04</td>\n",
       "      <td>＜開封パスワード＞ 【CF新規管理債権】  サトウ商事(株) （465995)  元本残 　...</td>\n",
       "      <td>465995</td>\n",
       "    </tr>\n",
       "    <tr>\n",
       "      <th>5</th>\n",
       "      <td>2015-11-05 08:28:01</td>\n",
       "      <td>【CF新規管理債権】  サトウ商事(株) （465995)  元本残 　再リース　MM/ 旧ＳＯＬ</td>\n",
       "      <td>465995</td>\n",
       "    </tr>\n",
       "    <tr>\n",
       "      <th>6</th>\n",
       "      <td>2015-11-02 15:27:50</td>\n",
       "      <td>＜開封パスワード＞　 【CF新規管理債権】  株）栄光部品 （483210)  元本残 　再...</td>\n",
       "      <td>483210</td>\n",
       "    </tr>\n",
       "    <tr>\n",
       "      <th>7</th>\n",
       "      <td>2015-11-02 15:27:00</td>\n",
       "      <td>【CF新規管理債権】  株）栄光部品 （483210)  元本残 　再リース　MM/ ＣＦ四国</td>\n",
       "      <td>483210</td>\n",
       "    </tr>\n",
       "    <tr>\n",
       "      <th>8</th>\n",
       "      <td>2015-10-30 18:56:07</td>\n",
       "      <td>RE:  【CF新規管理債権】  株）ひびき２１（H40857)  元本残　1.03MM/ 　FL</td>\n",
       "      <td>H40857</td>\n",
       "    </tr>\n",
       "    <tr>\n",
       "      <th>9</th>\n",
       "      <td>2015-10-30 15:12:57</td>\n",
       "      <td>＜開封パスワード＞　  【CF新規管理債権】 株）セリエ （640464)  元本残 3.3...</td>\n",
       "      <td>640464</td>\n",
       "    </tr>\n",
       "    <tr>\n",
       "      <th>10</th>\n",
       "      <td>2015-10-30 15:12:09</td>\n",
       "      <td>【CF新規管理債権】 株）セリエ （640464)  元本残 3.3MM/ サビ営１</td>\n",
       "      <td>640464</td>\n",
       "    </tr>\n",
       "    <tr>\n",
       "      <th>11</th>\n",
       "      <td>2015-10-30 14:34:20</td>\n",
       "      <td>＜開封パスワード＞  【CF新規管理債権】  株）ひびき２１（H40857)  元本残　1....</td>\n",
       "      <td>H40857</td>\n",
       "    </tr>\n",
       "    <tr>\n",
       "      <th>12</th>\n",
       "      <td>2015-10-30 14:33:37</td>\n",
       "      <td>【CF新規管理債権】  株）ひびき２１（H40857)  元本残　1.03MM/ 　FL</td>\n",
       "      <td>H40857</td>\n",
       "    </tr>\n",
       "    <tr>\n",
       "      <th>13</th>\n",
       "      <td>2015-10-23 16:25:21</td>\n",
       "      <td>＜開封パスワード＞　 【CF新規管理債権】 株）山形グランドホテル （G13901)  元本...</td>\n",
       "      <td>G13901</td>\n",
       "    </tr>\n",
       "    <tr>\n",
       "      <th>14</th>\n",
       "      <td>2015-10-23 16:24:38</td>\n",
       "      <td>【CF新規管理債権】 株）山形グランドホテル （G13901)  元本残　再リース　MM/ GYL</td>\n",
       "      <td>G13901</td>\n",
       "    </tr>\n",
       "    <tr>\n",
       "      <th>15</th>\n",
       "      <td>2015-10-23 15:42:58</td>\n",
       "      <td>＜開封パスワード＞　 【CF新規管理債権】　株）サイトウ（041489)  元本残　再リース...</td>\n",
       "      <td>041489</td>\n",
       "    </tr>\n",
       "    <tr>\n",
       "      <th>16</th>\n",
       "      <td>2015-10-23 15:42:04</td>\n",
       "      <td>【CF新規管理債権】　株）サイトウ（041489)  元本残　再リース　MM/　工機東京</td>\n",
       "      <td>041489</td>\n",
       "    </tr>\n",
       "    <tr>\n",
       "      <th>17</th>\n",
       "      <td>2015-10-22 14:57:19</td>\n",
       "      <td>＜開封パスワード＞　  【CF新規管理債権】　北陸フジコー株式会社（644185)  元本残...</td>\n",
       "      <td>644185</td>\n",
       "    </tr>\n",
       "    <tr>\n",
       "      <th>18</th>\n",
       "      <td>2015-10-22 14:56:12</td>\n",
       "      <td>【CF新規管理債権】　北陸フジコー株式会社（644185)  元本残　41.1MM/ ＣＦ北陸</td>\n",
       "      <td>644185</td>\n",
       "    </tr>\n",
       "  </tbody>\n",
       "</table>\n",
       "<p>147 rows × 3 columns</p>\n",
       "</div>"
      ],
      "text/plain": [
       "                   Date                                                SUB  \\\n",
       "146 2017-04-05 11:07:21  ＜開封パスワード＞　 【GYL新規管理債権】　有）新田食品    (G12957）  元本残...   \n",
       "145 2017-04-05 11:06:39  【GYL新規管理債権】　有）新田食品    (G12957）  元本残 0.1百万円　 / ...   \n",
       "143 2017-04-05 10:33:44  ＜開封パスワード＞　 【CF 新規管理債権】　吉田　晋務　吉田工作所   (644342） ...   \n",
       "144 2017-04-05 10:33:04  【CF 新規管理債権】　吉田　晋務　吉田工作所   (644342）  元本残 18.9百万...   \n",
       "134 2017-03-29 09:49:30  RE: 3/28/17 Collections Monthly Dashboard Revi...   \n",
       "135 2017-03-29 09:28:23  RE: 3/28/17 Collections Monthly Dashboard Revi...   \n",
       "136 2017-03-29 09:06:34  RE: 3/28/17 Collections Monthly Dashboard Revi...   \n",
       "124 2017-03-27 16:56:40  【CF 新規管理債権】　（株）名星企画　 (656358）  元本残 14.7百万円　 / ...   \n",
       "123 2017-03-27 16:53:06  ＜開封パスワード＞　 【CF 新規管理債権】　（株）DESTRUCT　 (656365）  ...   \n",
       "122 2017-03-27 16:51:36  【CF 新規管理債権】　（株）DESTRUCT　 (656365）  元本残 14.7百万円...   \n",
       "137 2017-03-27 14:44:39  ＜開封パスワード＞　　 【CF 新規管理債権】　(有)　野辺工業　 (SHWWON）  元本...   \n",
       "138 2017-03-27 14:43:56  【CF 新規管理債権】　(有)　野辺工業　 (SHWWON）  元本残  44.4百万円　 ...   \n",
       "139 2017-03-24 17:44:57  ＜開封パスワード＞　 【CF 新規管理債権】　シニアパークサポート（株） (646906） ...   \n",
       "140 2017-03-24 17:44:17  【CF 新規管理債権】　シニアパークサポート（株） (646906）  元本残  9.8百万...   \n",
       "141 2017-03-22 08:40:32  ＜開封パスワード＞　  【CF 新規管理債権】　有）アルディマージュ (654708）  元...   \n",
       "142 2017-03-22 08:39:48   【CF 新規管理債権】　有）アルディマージュ (654708）  元本残  37.2百万円...   \n",
       "120 2017-03-17 10:16:11  ＜開封パスワード＞　 【GYL 新規管理債権】　有）辻スポーツ店 (G12582）  元本残...   \n",
       "121 2017-03-17 10:15:19  【GYL 新規管理債権】　有）辻スポーツ店 (G12582）  元本残  1.3百万円　 /...   \n",
       "132 2017-03-10 18:29:50  ＜開封パスワード＞   【CF 新規管理債権】　（株）北酪乳販 (B34192）  元本残 ...   \n",
       "133 2017-03-10 18:26:45   【CF 新規管理債権】　（株）北酪乳販 (B34192）  元本残  13.7百万円　 /...   \n",
       "109 2017-03-10 09:18:02  RE:  【CF 新規管理債権】　北緯四十度のまち（株） (662585）  元本残  10...   \n",
       "110 2017-03-09 17:10:36  RE:  【CF 新規管理債権】　北緯四十度のまち（株） (662585）  元本残  10...   \n",
       "111 2017-03-09 17:01:58  RE:  【CF 新規管理債権】　北緯四十度のまち（株） (662585）  元本残  10...   \n",
       "112 2017-03-09 16:00:31  RE:  【CF 新規管理債権】　北緯四十度のまち（株） (662585）  元本残  10...   \n",
       "113 2017-03-09 15:09:35  RE:  【CF 新規管理債権】　北緯四十度のまち（株） (662585）  元本残  10...   \n",
       "114 2017-03-09 14:58:59  RE:  【CF 新規管理債権】　北緯四十度のまち（株） (662585）  元本残  10...   \n",
       "115 2017-03-09 13:57:19  RE:  【CF 新規管理債権】　北緯四十度のまち（株） (662585）  元本残  10...   \n",
       "116 2017-03-09 13:54:31  RE:  【CF 新規管理債権】　北緯四十度のまち（株） (662585）  元本残  10...   \n",
       "117 2017-03-09 13:37:39  RE:  【CF 新規管理債権】　北緯四十度のまち（株） (662585）  元本残  10...   \n",
       "84  2017-03-09 12:57:28  FW:  【CF 新規管理債権】　北緯四十度のまち（株） (662585）  元本残  10...   \n",
       "..                  ...                                                ...   \n",
       "54  2016-07-06 13:38:00  【CF 新規管理債権】 　千鳥屋こと原田良康　（588620)  元本残 　再リース　 / ...   \n",
       "55  2016-07-06 13:16:03  ＜開封パスワード＞　 【CF 新規管理債権】 倉八紙工 （株）（H08857)  元本残 　...   \n",
       "56  2016-07-06 13:14:57    【CF 新規管理債権】 倉八紙工 （株）（H08857)  元本残 　再リース　 / 　KCF   \n",
       "57  2016-07-04 11:56:27                      RE: CFトラック - ACD開始に向けたアクション整理   \n",
       "125 2016-06-06 09:21:31                           FW: 熊本地震関連　支払猶予受付状況（6/1)   \n",
       "126 2016-06-06 09:06:52                                   熊本地震の最新版支払猶予先リスト   \n",
       "127 2016-05-30 13:56:30                                               熊本地震   \n",
       "128 2016-05-23 10:28:44                                      本日時点の支払猶予先リスト   \n",
       "129 2016-02-29 20:34:08                 RE: Siebelの案件番号とP+ Mobileの紐づけ表 最新版   \n",
       "130 2016-02-10 10:43:37                     RE: Siebelの案件番号とP+ Mobileの紐づけ表   \n",
       "131 2016-01-13 15:26:56                 RE: Siebelの案件番号とP+ Mobileの紐づけ表 最新版   \n",
       "0   2015-11-05 11:41:09  ＜開封パスワード＞　 【CF新規管理債権】  淡路貨物自動車㈱（642485)  元本残 9...   \n",
       "1   2015-11-05 11:40:09      【CF新規管理債権】  淡路貨物自動車㈱（642485)  元本残 9.7MM/ ＣＦ神戸   \n",
       "2   2015-11-05 09:39:34  ＜開封パスワード＞　 【CF新規管理債権】  株）壽屋（A00401)  元本残 　再リース...   \n",
       "3   2015-11-05 09:38:22      【CF新規管理債権】  株）壽屋（A00401)  元本残 　再リース　MM/ ベンダー営   \n",
       "4   2015-11-05 08:29:04  ＜開封パスワード＞ 【CF新規管理債権】  サトウ商事(株) （465995)  元本残 　...   \n",
       "5   2015-11-05 08:28:01  【CF新規管理債権】  サトウ商事(株) （465995)  元本残 　再リース　MM/ 旧ＳＯＬ   \n",
       "6   2015-11-02 15:27:50  ＜開封パスワード＞　 【CF新規管理債権】  株）栄光部品 （483210)  元本残 　再...   \n",
       "7   2015-11-02 15:27:00    【CF新規管理債権】  株）栄光部品 （483210)  元本残 　再リース　MM/ ＣＦ四国   \n",
       "8   2015-10-30 18:56:07  RE:  【CF新規管理債権】  株）ひびき２１（H40857)  元本残　1.03MM/ 　FL   \n",
       "9   2015-10-30 15:12:57  ＜開封パスワード＞　  【CF新規管理債権】 株）セリエ （640464)  元本残 3.3...   \n",
       "10  2015-10-30 15:12:09         【CF新規管理債権】 株）セリエ （640464)  元本残 3.3MM/ サビ営１   \n",
       "11  2015-10-30 14:34:20  ＜開封パスワード＞  【CF新規管理債権】  株）ひびき２１（H40857)  元本残　1....   \n",
       "12  2015-10-30 14:33:37       【CF新規管理債権】  株）ひびき２１（H40857)  元本残　1.03MM/ 　FL   \n",
       "13  2015-10-23 16:25:21  ＜開封パスワード＞　 【CF新規管理債権】 株）山形グランドホテル （G13901)  元本...   \n",
       "14  2015-10-23 16:24:38  【CF新規管理債権】 株）山形グランドホテル （G13901)  元本残　再リース　MM/ GYL   \n",
       "15  2015-10-23 15:42:58  ＜開封パスワード＞　 【CF新規管理債権】　株）サイトウ（041489)  元本残　再リース...   \n",
       "16  2015-10-23 15:42:04       【CF新規管理債権】　株）サイトウ（041489)  元本残　再リース　MM/　工機東京   \n",
       "17  2015-10-22 14:57:19  ＜開封パスワード＞　  【CF新規管理債権】　北陸フジコー株式会社（644185)  元本残...   \n",
       "18  2015-10-22 14:56:12    【CF新規管理債権】　北陸フジコー株式会社（644185)  元本残　41.1MM/ ＣＦ北陸   \n",
       "\n",
       "     SUM_CD  \n",
       "146  G12957  \n",
       "145  G12957  \n",
       "143  644342  \n",
       "144  644342  \n",
       "134     NaN  \n",
       "135     NaN  \n",
       "136     NaN  \n",
       "124  656358  \n",
       "123  656365  \n",
       "122  656365  \n",
       "137  SHWWON  \n",
       "138  SHWWON  \n",
       "139  646906  \n",
       "140  646906  \n",
       "141  654708  \n",
       "142  654708  \n",
       "120  G12582  \n",
       "121  G12582  \n",
       "132  B34192  \n",
       "133  B34192  \n",
       "109  662585  \n",
       "110  662585  \n",
       "111  662585  \n",
       "112  662585  \n",
       "113  662585  \n",
       "114  662585  \n",
       "115  662585  \n",
       "116  662585  \n",
       "117  662585  \n",
       "84   662585  \n",
       "..      ...  \n",
       "54   588620  \n",
       "55   H08857  \n",
       "56   H08857  \n",
       "57      NaN  \n",
       "125     NaN  \n",
       "126     NaN  \n",
       "127     NaN  \n",
       "128     NaN  \n",
       "129     NaN  \n",
       "130     NaN  \n",
       "131     NaN  \n",
       "0    642485  \n",
       "1    642485  \n",
       "2    A00401  \n",
       "3    A00401  \n",
       "4    465995  \n",
       "5    465995  \n",
       "6    483210  \n",
       "7    483210  \n",
       "8    H40857  \n",
       "9    640464  \n",
       "10   640464  \n",
       "11   H40857  \n",
       "12   H40857  \n",
       "13   G13901  \n",
       "14   G13901  \n",
       "15   041489  \n",
       "16   041489  \n",
       "17   644185  \n",
       "18   644185  \n",
       "\n",
       "[147 rows x 3 columns]"
      ]
     },
     "execution_count": 10,
     "metadata": {},
     "output_type": "execute_result"
    }
   ],
   "source": [
    "data.sort_values([\"Date\"],ascending=False)"
   ]
  },
  {
   "cell_type": "markdown",
   "metadata": {},
   "source": [
    "デフォルトデータ"
   ]
  },
  {
   "cell_type": "code",
   "execution_count": 11,
   "metadata": {
    "collapsed": true
   },
   "outputs": [],
   "source": [
    "sqlstr = \"SELECT A.deal_id,\" + \\\n",
    "\"        A.transaction_id as trnsA,B.transaction_id as trnsB,\" + \\\n",
    "\"        A.import_time as impdA,B.import_time as impdB,\" + \\\n",
    "\"        A.exposure_amount,A.days_past_due_cnt,\" + \\\n",
    "\"        B.p_kubun,B.sor_party_id,B.party_role \" + \\\n",
    "\"FROM DBO.TRANSACTION_FACILITY A \" + \\\n",
    "\"FULL OUTER JOIN DBO.TRANSACTION_PARTY B \" + \\\n",
    "\"ON A.TRANSACTION_ID = B.TRANSACTION_ID AND A.IMPORT_TIME = B.IMPORT_TIME \" + \\\n",
    "\"where B.p_kubun = 'P1' AND days_past_due_cnt > 0\"\n",
    "\n",
    "IRISD = pd.read_sql(sqlstr,cns.JEDW)\n",
    "DLQD = IRISD.query('days_past_due_cnt >= 30 & party_role == \"BORROWER\"')\\\n",
    "         .sort_values(['deal_id','days_past_due_cnt','impdA'])\\\n",
    "         .groupby(['deal_id']).nth(-1).loc[:,['impdA','days_past_due_cnt']].reset_index()"
   ]
  },
  {
   "cell_type": "code",
   "execution_count": 12,
   "metadata": {
    "collapsed": true
   },
   "outputs": [],
   "source": [
    "# TRANSACTION_IDの変換用関数\n",
    "def creanTRANNO(x):\n",
    "    if len(x) in [11,12] :\n",
    "        return(x[0:-3])\n",
    "    else:\n",
    "        if x[-5:] == \"00101\":\n",
    "            return(x[0:-5])\n",
    "        else:\n",
    "            return(x)\n",
    "\n",
    "JDEFS = pd.read_sql(\"SELECT * FROM DEFAULT_TRANSACTION\",cns.JEDW)\n",
    "JDEFS.loc[:,'DSDATE'] = JDEFS.DEFAULT_EPISODE_START_DATE.apply(lambda x:pd.datetime.strptime(x,'%m/%d/%Y') if x != \"\" else \"\")\n",
    "DEFS = pd.read_sql(\"SELECT * FROM DEFAULT_TRANSACTION\",cns.EDWADMIN)\n",
    "DEFS.loc[:,'DSDATE'] =  pd.to_datetime(DEFS.DEFAULT_EPISODE_START_DATE)\n",
    "DEFDATA = pd.concat([DEFS,JDEFS]).assign(TRANSAID = lambda x:x.DEFAULT_TRANSACTION_ID.apply(creanTRANNO))\\\n",
    "                     .filter(regex=\"TRANSA|DSDATE|BUS|DATAFROM\")\\\n",
    "                     .sort_values(['DEFAULT_TRANSACTION_ID','DSDATE']).groupby(['DEFAULT_TRANSACTION_ID']).nth([0]).reset_index()"
   ]
  },
  {
   "cell_type": "code",
   "execution_count": 13,
   "metadata": {
    "collapsed": true
   },
   "outputs": [],
   "source": [
    "CFWO = pd.read_sql(\"SELECT * FROM CFWO\",cns.SMERISK)\n",
    "CFREC = pd.read_sql(\"SELECT * FROM CFREC\",cns.SMERISK)\n",
    "CFWOREC = pd.merge(left=CFWO.groupby(['cont_no']).WO_Amount.sum().reset_index(),\n",
    "                                  right=CFREC.groupby(['cont_no']).Recovery_Amount.sum().reset_index(),\n",
    "                                  left_on=['cont_no'],right_on=['cont_no'],how='outer',indicator=\"WORECMG\")"
   ]
  },
  {
   "cell_type": "code",
   "execution_count": 14,
   "metadata": {
    "collapsed": false
   },
   "outputs": [],
   "source": [
    "MBDD = MBD.pipe(lambda x:pd.merge(left=x,right=DLQD,left_on=['KEIYAKUNO'],right_on=['deal_id'],how=\"left\"))\\\n",
    "                    .assign(WOFLG = lambda x:x.KEIYAKUNO.isin(CFWO.cont_no))\\\n",
    "                    .assign(KANRI = lambda x:x.SUM_CD.isin(list(data.SUM_CD.dropna().unique()) + [\"SEWKTT\"]))\\\n",
    "                    .pipe(lambda x:pd.merge(left=x,right=CFWOREC,left_on=['KEIYAKUNO'],right_on=['cont_no'],how='left'))\\\n",
    "                    .pipe(lambda x:pd.merge(left=x,right=DEFDATA,left_on=['KEIYAKUNO'],right_on=['TRANSAID'],how='left'))\\\n",
    "                    .assign(RDEF = lambda x:((x.WOFLG == True)|(x.KANRI==True)))\\\n",
    "                    .assign(RDEF2 = lambda x:((x.WOFLG == True)|(x.KANRI==True)|(~x.DSDATE.isnull())))"
   ]
  },
  {
   "cell_type": "code",
   "execution_count": 15,
   "metadata": {
    "collapsed": false
   },
   "outputs": [],
   "source": [
    "# 年度データの作成\n",
    "MBDD.loc[~MBDD.EO_CONTRACTDATE.isnull(),'CNTYEAR'] = \\\n",
    "MBDD.loc[~MBDD.EO_CONTRACTDATE.isnull(),:].EO_CONTRACTDATE.dt.date - relativedelta(months=3)+ relativedelta(month=4,day=1)"
   ]
  },
  {
   "cell_type": "code",
   "execution_count": 16,
   "metadata": {
    "collapsed": true
   },
   "outputs": [],
   "source": [
    "# ACDスコア\n",
    "labels2 = [\"{0} - {1}\".format(i*10,i*10 + 9) for i in range(10,21)]\n",
    "labels3 = [\"{0} - {1}\".format(i*5,i*5 + 4) for i in range(20,43)]\n",
    "MBDD.loc[~MBDD.scoren.isnull(),'score_cat'] =MBDD.pipe(lambda x:pd.cut(x.scoren.dropna(),[i*10 for i in range(10,22)],labels=labels2,right=False))\n",
    "MBDD.loc[~MBDD.scoren.isnull(),'score_cat2'] =MBDD.pipe(lambda x:pd.cut(x.scoren.dropna(),[i*5 for i in range(20,44)],labels=labels3,right=False))"
   ]
  },
  {
   "cell_type": "markdown",
   "metadata": {},
   "source": [
    "顧客ベースデータ"
   ]
  },
  {
   "cell_type": "code",
   "execution_count": 20,
   "metadata": {
    "collapsed": false
   },
   "outputs": [],
   "source": [
    "MBDDC = MBDD.sort_values(['SUM_CD','CNTYEAR','RDEF']).groupby(['SUM_CD','CNTYEAR']).nth(-1).reset_index()\\\n",
    "               .pipe(lambda x:x.loc[~x.CREATION_DATE_FIRST.isnull(),:])\\\n",
    "               .assign(YEAR = lambda x:x.CREATION_DATE_FIRST.dt.year)"
   ]
  },
  {
   "cell_type": "code",
   "execution_count": 41,
   "metadata": {
    "collapsed": false
   },
   "outputs": [],
   "source": [
    "SCORE_SUM = pd.pivot_table(MBDDC.pipe(lambda x:x.loc[(~x.KEIYAKUNO.isnull()) & \n",
    "                                 ((x.EO_ACD_APPROVAL_KBN.isin(['1','2']))|(x.EO_CA_ACDRINGI == 'Y')),:]),index=['score_cat'],\\\n",
    "                      columns=['CNTYEAR','RDEF'],values=\"APL_NO\",aggfunc=\"count\",fill_value=0,margins=True)"
   ]
  },
  {
   "cell_type": "code",
   "execution_count": 21,
   "metadata": {
    "collapsed": false
   },
   "outputs": [],
   "source": [
    "labels_sl = [\"{0} - {1}\".format(i*0.5,i*0.5 + 0.5) for i in range(0,19)]\n",
    "MBDDC = MBDDC.pipe(lambda x:pd.concat([x,x.SALES_APL.str.split(\",\",expand=True).add_prefix(\"SALES_\")],axis=1))\\\n",
    "                          .assign(LSALE = lambda x:x.SALES_0.astype('float64').apply(lambda y:np.log10(y) if np.float64(y) > 0 else None))\n",
    "MBDDC.loc[~MBDDC.LSALE.isnull(),'LSALEC'] = pd.cut(MBDDC.LSALE.dropna(),[i*0.5 for i in range(0,20)],labels=labels_sl,right=False)"
   ]
  },
  {
   "cell_type": "code",
   "execution_count": 22,
   "metadata": {
    "collapsed": false
   },
   "outputs": [],
   "source": [
    "MBDDC = MBDDC.assign(\n",
    "    RATE = lambda x:x.apply(lambda y:np.float64(y.EO_CA_OEC)/(np.float64(y.SALES_0)*1000000) if np.float64(y.SALES_0) > 0 else None,axis=1))"
   ]
  },
  {
   "cell_type": "code",
   "execution_count": 45,
   "metadata": {
    "collapsed": false
   },
   "outputs": [],
   "source": [
    "import seaborn as sns\n",
    "%matplotlib inline\n",
    "fig = plt.scatter(x=MBDDC.LSALE,y=MBDDC.scoren,c=MBDDC.RDEF)\n",
    "fig.figure.set_size_inches(8,8)"
   ]
  },
  {
   "cell_type": "code",
   "execution_count": null,
   "metadata": {
    "collapsed": false
   },
   "outputs": [],
   "source": [
    "MBDDC.SALES_0"
   ]
  },
  {
   "cell_type": "code",
   "execution_count": null,
   "metadata": {
    "collapsed": false
   },
   "outputs": [],
   "source": [
    "fig = plt.scatter(x=MBDDC.RATE,y=MBDDC.scoren,c=MBDDC.RDEF,marker=\".\")\n",
    "fig.figure.set_size_inches(12,12)"
   ]
  },
  {
   "cell_type": "code",
   "execution_count": 162,
   "metadata": {
    "collapsed": false
   },
   "outputs": [],
   "source": [
    "mdata = MBDDC.filter(regex=\"SALES_0|TDB_SCORE_APL|scoren|^RATE$|EO_CA_OEC\")\\\n",
    "                        #.pipe(lambda x:pd.concat([x,pd.get_dummies(MBDDC.EO_CA_MACHINETYPE)],axis=1))"
   ]
  },
  {
   "cell_type": "code",
   "execution_count": 47,
   "metadata": {
    "collapsed": false
   },
   "outputs": [],
   "source": [
    "import xgboost as xgb\n",
    "import scipy as sp\n",
    "from sklearn.model_selection import GridSearchCV,RandomizedSearchCV\n",
    "from sklearn.metrics import confusion_matrix,accuracy_score"
   ]
  },
  {
   "cell_type": "markdown",
   "metadata": {},
   "source": [
    "RandomizedSearchでパラメータを調整"
   ]
  },
  {
   "cell_type": "code",
   "execution_count": 167,
   "metadata": {
    "collapsed": false
   },
   "outputs": [
    {
     "name": "stdout",
     "output_type": "stream",
     "text": [
      "{'max_depth': 5, 'n_estimators': 3, 'subsample': 0.76586457665924734, 'learning_rate': 0.575486281603242}\n"
     ]
    }
   ],
   "source": [
    "params = {'learning_rate':sp.stats.uniform(0.0,0.6),\n",
    "                 'max_depth':sp.stats.randint(1,6),\n",
    "                 'subsample':sp.stats.uniform(0.7,0.3),\n",
    "                 'n_estimators':sp.stats.randint(1,4)}\n",
    "\n",
    "weight = MBDDC.RDEF.apply(lambda x: 50 if x else 1)\n",
    "clf2 = xgb.XGBClassifier(reg_alpha=1.3,objective='binary:logistic')\n",
    "clf2_cv = RandomizedSearchCV(clf2,params,fit_params={'sample_weight':weight},cv=5,n_iter=100,scoring=\"neg_log_loss\")\n",
    "mod2 = clf2_cv.fit(mdata.as_matrix(),MBDDC.RDEF.apply(lambda x:1 if x else 0))\n",
    "pred2 = clf2_cv.predict(mdata.as_matrix())\n",
    "print(clf2_cv.best_params_)"
   ]
  },
  {
   "cell_type": "code",
   "execution_count": 168,
   "metadata": {
    "collapsed": false
   },
   "outputs": [
    {
     "name": "stdout",
     "output_type": "stream",
     "text": [
      "[[3446    1]\n",
      " [  66   17]]\n",
      "0.981019830028\n"
     ]
    }
   ],
   "source": [
    "print(confusion_matrix(pred2,MBDDC.RDEF.apply(lambda x:1 if x else 0)))\n",
    "print(accuracy_score(pred2,MBDDC.RDEF.apply(lambda x:1 if x else 0)))"
   ]
  },
  {
   "cell_type": "code",
   "execution_count": 95,
   "metadata": {
    "collapsed": false
   },
   "outputs": [
    {
     "data": {
      "text/plain": [
       "XGBClassifier(base_score=0.5, colsample_bylevel=1, colsample_bytree=1,\n",
       "       gamma=0, learning_rate=0.4838948438142765, max_delta_step=0,\n",
       "       max_depth=5, min_child_weight=1, missing=None, n_estimators=3,\n",
       "       nthread=-1, objective='binary:logistic', reg_alpha=1.3,\n",
       "       reg_lambda=1, scale_pos_weight=1, seed=0, silent=True,\n",
       "       subsample=0.85213689105640589)"
      ]
     },
     "execution_count": 95,
     "metadata": {},
     "output_type": "execute_result"
    }
   ],
   "source": [
    "mod2.best_estimator_"
   ]
  },
  {
   "cell_type": "code",
   "execution_count": null,
   "metadata": {
    "collapsed": false
   },
   "outputs": [],
   "source": [
    "import seaborn as sns\n",
    "%matplotlib inline\n",
    "fig = xgb.plot_importance(mod2.best_estimator_)\n",
    "fig.figure.set_size_inches(12,8)"
   ]
  },
  {
   "cell_type": "code",
   "execution_count": null,
   "metadata": {
    "collapsed": false
   },
   "outputs": [],
   "source": [
    "fig = xgb.plot_tree(mod2.best_estimator_,num_trees=2)\n",
    "fig.figure.set_size_inches(25,20)"
   ]
  },
  {
   "cell_type": "code",
   "execution_count": 103,
   "metadata": {
    "collapsed": false
   },
   "outputs": [],
   "source": [
    "MBDDC.loc[:,'PRED_RS'] = pred2"
   ]
  },
  {
   "cell_type": "code",
   "execution_count": 106,
   "metadata": {
    "collapsed": false
   },
   "outputs": [],
   "source": [
    "mxw.viewOnXL_new(\n",
    "MBDDC.query(\"PRED_RS == 1\").filter(regex=\"CORPKANJI|SALES_|LSALE|RDEF|^RATE$|TDB_SCORE|score|PRED|EO_CA_OEC|MACHINE|deal_final_decision\"))"
   ]
  },
  {
   "cell_type": "code",
   "execution_count": null,
   "metadata": {
    "collapsed": false
   },
   "outputs": [],
   "source": [
    "pd.DataFrame({\"feature\":pd.Series(list(mdata.columns)),\"imp\":pd.Series(mod2.best_estimator_.feature_importances_)}).sort_values(['imp'],ascending=False)"
   ]
  },
  {
   "cell_type": "code",
   "execution_count": null,
   "metadata": {
    "collapsed": true
   },
   "outputs": [],
   "source": []
  },
  {
   "cell_type": "markdown",
   "metadata": {},
   "source": [
    "手でパラメータ調整"
   ]
  },
  {
   "cell_type": "code",
   "execution_count": 335,
   "metadata": {
    "collapsed": true
   },
   "outputs": [],
   "source": [
    "import xgboost as xgb\n",
    "clf = xgb.XGBClassifier(learning_rate=0.01,max_depth=6,n_estimators=3,subsample=0.9,reg_alpha=1.3,objective=\"binary:logistic\")"
   ]
  },
  {
   "cell_type": "code",
   "execution_count": 336,
   "metadata": {
    "collapsed": false
   },
   "outputs": [
    {
     "name": "stdout",
     "output_type": "stream",
     "text": [
      "[[3455    1]\n",
      " [  57   17]]\n",
      "0.983569405099\n"
     ]
    }
   ],
   "source": [
    "weight = MBDDC.RDEF.apply(lambda x: 33 if x else 1)\n",
    "mod = clf.fit(mdata.as_matrix(),MBDDC.RDEF.apply(lambda x:1 if x else 0),sample_weight=weight)\n",
    "bst = mod.booster()\n",
    "pred = clf.predict(mdata.as_matrix())\n",
    "from sklearn.metrics import confusion_matrix,accuracy_score\n",
    "print(confusion_matrix(pred,MBDDC.RDEF.apply(lambda x:1 if x else 0)))\n",
    "print(accuracy_score(pred,MBDDC.RDEF.apply(lambda x:1 if x else 0)))\n",
    "MBDDC.loc[:,'PRED'] = pred"
   ]
  },
  {
   "cell_type": "markdown",
   "metadata": {},
   "source": [
    "フィットさせるためにCVをやる場合"
   ]
  },
  {
   "cell_type": "code",
   "execution_count": 274,
   "metadata": {
    "collapsed": true
   },
   "outputs": [],
   "source": [
    "params = {\"leaning_rate\":0.2,\"max_depth\":6,\"n_estimators\":3,\"reg_alpha\":0.5,\"objective\":\"binary:logistic\"}\n",
    "dtrain = xgb.DMatrix(mdata.as_matrix(),label=MBDDC.RDEF.apply(lambda x:1 if x else 0),feature_names=mdata.columns)\n",
    "cv = xgb.cv(params,dtrain,num_boost_round=3,nfold=30)\n",
    "cv.loc[:,['train-error-mean','train-error-std']].plot()\n",
    "bst2 = xgb.train(params,dtrain,num_boost_round=100)"
   ]
  },
  {
   "cell_type": "markdown",
   "metadata": {},
   "source": [
    "------------------------------------"
   ]
  },
  {
   "cell_type": "code",
   "execution_count": null,
   "metadata": {
    "collapsed": false
   },
   "outputs": [],
   "source": [
    "pd.pivot_table(MBDDC,index='PRED',columns=None,values=['RATE'],aggfunc=\"mean\",fill_value=0)"
   ]
  },
  {
   "cell_type": "code",
   "execution_count": null,
   "metadata": {
    "collapsed": false
   },
   "outputs": [],
   "source": [
    "pd.pivot_table(MBDDC,index='RDEF',columns=None,values=['RATE'],aggfunc=\"mean\",fill_value=0)"
   ]
  },
  {
   "cell_type": "code",
   "execution_count": 164,
   "metadata": {
    "collapsed": false
   },
   "outputs": [
    {
     "name": "stderr",
     "output_type": "stream",
     "text": [
      "C:\\Users\\212392510\\AppData\\Local\\Continuum\\Anaconda3\\lib\\site-packages\\xlwings\\_xlwindows.py:1024: FutureWarning:\n",
      "\n",
      "to_datetime is deprecated. Use self.to_pydatetime()\n",
      "\n"
     ]
    }
   ],
   "source": [
    "mxw.viewOnXL_new(MBDDC.query('RDEF==True'))"
   ]
  },
  {
   "cell_type": "code",
   "execution_count": 234,
   "metadata": {
    "collapsed": false
   },
   "outputs": [],
   "source": [
    "mxw.viewOnXL_new(MBDDC.query('(RATE > 0.1) & (deal_final_decision_result != 3) | (RDEF == True)')\\\n",
    "                 .filter(regex=\"CORPKANJI|SALES_|LSALE|RDEF|^RATE$|TDB_SCORE|score|PRED|EO_CA_OEC|MACHINE|deal_final_decision\"))"
   ]
  },
  {
   "cell_type": "code",
   "execution_count": 155,
   "metadata": {
    "collapsed": true
   },
   "outputs": [],
   "source": [
    "def plotGrid(data,tgtval,x_size,y_size,**kwargs):\n",
    "    g = sns.FacetGrid(data,**kwargs)\n",
    "    g.map(sns.distplot,tgtval)\n",
    "    g.fig.set_size_inches(x_size,y_size)"
   ]
  },
  {
   "cell_type": "code",
   "execution_count": null,
   "metadata": {
    "collapsed": false
   },
   "outputs": [],
   "source": [
    "plotGrid(MBDDC,'RATE',12,12,row='PRED')"
   ]
  },
  {
   "cell_type": "code",
   "execution_count": null,
   "metadata": {
    "collapsed": false
   },
   "outputs": [],
   "source": [
    "fig = xgb.plot_tree(mod,num_trees=0)\n",
    "fig.figure.set_size_inches(25,20)"
   ]
  },
  {
   "cell_type": "markdown",
   "metadata": {},
   "source": [
    "集計して建機の比率を見てみる"
   ]
  },
  {
   "cell_type": "code",
   "execution_count": 272,
   "metadata": {
    "collapsed": false
   },
   "outputs": [
    {
     "data": {
      "text/html": [
       "<div>\n",
       "<table border=\"1\" class=\"dataframe\">\n",
       "  <thead>\n",
       "    <tr>\n",
       "      <th>CNTYEAR</th>\n",
       "      <th colspan=\"2\" halign=\"left\">2014-04-01</th>\n",
       "      <th colspan=\"2\" halign=\"left\">2015-04-01</th>\n",
       "      <th colspan=\"2\" halign=\"left\">2016-04-01</th>\n",
       "      <th>2017-04-01</th>\n",
       "      <th>All</th>\n",
       "      <th>pct</th>\n",
       "    </tr>\n",
       "    <tr>\n",
       "      <th>RDEF</th>\n",
       "      <th>False</th>\n",
       "      <th>True</th>\n",
       "      <th>False</th>\n",
       "      <th>True</th>\n",
       "      <th>False</th>\n",
       "      <th>True</th>\n",
       "      <th>False</th>\n",
       "      <th></th>\n",
       "      <th></th>\n",
       "    </tr>\n",
       "    <tr>\n",
       "      <th>EO_CA_MACHINETYPE</th>\n",
       "      <th></th>\n",
       "      <th></th>\n",
       "      <th></th>\n",
       "      <th></th>\n",
       "      <th></th>\n",
       "      <th></th>\n",
       "      <th></th>\n",
       "      <th></th>\n",
       "      <th></th>\n",
       "    </tr>\n",
       "  </thead>\n",
       "  <tbody>\n",
       "    <tr>\n",
       "      <th>その他</th>\n",
       "      <td>1.0</td>\n",
       "      <td>0.0</td>\n",
       "      <td>26.0</td>\n",
       "      <td>0.0</td>\n",
       "      <td>110.0</td>\n",
       "      <td>0.0</td>\n",
       "      <td>0.0</td>\n",
       "      <td>137.0</td>\n",
       "      <td>0.000000</td>\n",
       "    </tr>\n",
       "    <tr>\n",
       "      <th>その他情報機器</th>\n",
       "      <td>11.0</td>\n",
       "      <td>0.0</td>\n",
       "      <td>79.0</td>\n",
       "      <td>2.0</td>\n",
       "      <td>140.0</td>\n",
       "      <td>0.0</td>\n",
       "      <td>0.0</td>\n",
       "      <td>232.0</td>\n",
       "      <td>0.000000</td>\n",
       "    </tr>\n",
       "    <tr>\n",
       "      <th>その他産業機械</th>\n",
       "      <td>4.0</td>\n",
       "      <td>0.0</td>\n",
       "      <td>26.0</td>\n",
       "      <td>2.0</td>\n",
       "      <td>51.0</td>\n",
       "      <td>0.0</td>\n",
       "      <td>0.0</td>\n",
       "      <td>83.0</td>\n",
       "      <td>0.000000</td>\n",
       "    </tr>\n",
       "    <tr>\n",
       "      <th>ソフトウエア</th>\n",
       "      <td>0.0</td>\n",
       "      <td>0.0</td>\n",
       "      <td>5.0</td>\n",
       "      <td>0.0</td>\n",
       "      <td>3.0</td>\n",
       "      <td>0.0</td>\n",
       "      <td>0.0</td>\n",
       "      <td>8.0</td>\n",
       "      <td>0.000000</td>\n",
       "    </tr>\n",
       "    <tr>\n",
       "      <th>パソコン(DesktopPC)</th>\n",
       "      <td>0.0</td>\n",
       "      <td>0.0</td>\n",
       "      <td>11.0</td>\n",
       "      <td>0.0</td>\n",
       "      <td>16.0</td>\n",
       "      <td>0.0</td>\n",
       "      <td>0.0</td>\n",
       "      <td>27.0</td>\n",
       "      <td>0.000000</td>\n",
       "    </tr>\n",
       "    <tr>\n",
       "      <th>パソコン(NotebookPC)</th>\n",
       "      <td>0.0</td>\n",
       "      <td>0.0</td>\n",
       "      <td>6.0</td>\n",
       "      <td>0.0</td>\n",
       "      <td>15.0</td>\n",
       "      <td>0.0</td>\n",
       "      <td>0.0</td>\n",
       "      <td>21.0</td>\n",
       "      <td>0.000000</td>\n",
       "    </tr>\n",
       "    <tr>\n",
       "      <th>プラスチック射出成型機</th>\n",
       "      <td>0.0</td>\n",
       "      <td>0.0</td>\n",
       "      <td>0.0</td>\n",
       "      <td>0.0</td>\n",
       "      <td>1.0</td>\n",
       "      <td>0.0</td>\n",
       "      <td>0.0</td>\n",
       "      <td>1.0</td>\n",
       "      <td>0.000000</td>\n",
       "    </tr>\n",
       "    <tr>\n",
       "      <th>事務用機器</th>\n",
       "      <td>2.0</td>\n",
       "      <td>0.0</td>\n",
       "      <td>41.0</td>\n",
       "      <td>0.0</td>\n",
       "      <td>71.0</td>\n",
       "      <td>0.0</td>\n",
       "      <td>1.0</td>\n",
       "      <td>115.0</td>\n",
       "      <td>0.000000</td>\n",
       "    </tr>\n",
       "    <tr>\n",
       "      <th>充填・包装設備</th>\n",
       "      <td>0.0</td>\n",
       "      <td>0.0</td>\n",
       "      <td>7.0</td>\n",
       "      <td>0.0</td>\n",
       "      <td>6.0</td>\n",
       "      <td>0.0</td>\n",
       "      <td>0.0</td>\n",
       "      <td>13.0</td>\n",
       "      <td>0.000000</td>\n",
       "    </tr>\n",
       "    <tr>\n",
       "      <th>医療機器</th>\n",
       "      <td>0.0</td>\n",
       "      <td>0.0</td>\n",
       "      <td>14.0</td>\n",
       "      <td>0.0</td>\n",
       "      <td>17.0</td>\n",
       "      <td>0.0</td>\n",
       "      <td>0.0</td>\n",
       "      <td>31.0</td>\n",
       "      <td>0.000000</td>\n",
       "    </tr>\n",
       "    <tr>\n",
       "      <th>印刷機械/製本機械</th>\n",
       "      <td>0.0</td>\n",
       "      <td>0.0</td>\n",
       "      <td>12.0</td>\n",
       "      <td>0.0</td>\n",
       "      <td>19.0</td>\n",
       "      <td>0.0</td>\n",
       "      <td>0.0</td>\n",
       "      <td>31.0</td>\n",
       "      <td>0.000000</td>\n",
       "    </tr>\n",
       "    <tr>\n",
       "      <th>商業設備</th>\n",
       "      <td>5.0</td>\n",
       "      <td>0.0</td>\n",
       "      <td>83.0</td>\n",
       "      <td>0.0</td>\n",
       "      <td>136.0</td>\n",
       "      <td>2.0</td>\n",
       "      <td>3.0</td>\n",
       "      <td>229.0</td>\n",
       "      <td>0.000000</td>\n",
       "    </tr>\n",
       "    <tr>\n",
       "      <th>店舗設備</th>\n",
       "      <td>7.0</td>\n",
       "      <td>0.0</td>\n",
       "      <td>83.0</td>\n",
       "      <td>0.0</td>\n",
       "      <td>115.0</td>\n",
       "      <td>0.0</td>\n",
       "      <td>2.0</td>\n",
       "      <td>207.0</td>\n",
       "      <td>0.000000</td>\n",
       "    </tr>\n",
       "    <tr>\n",
       "      <th>建設機械</th>\n",
       "      <td>8.0</td>\n",
       "      <td>2.0</td>\n",
       "      <td>126.0</td>\n",
       "      <td>1.0</td>\n",
       "      <td>277.0</td>\n",
       "      <td>4.0</td>\n",
       "      <td>3.0</td>\n",
       "      <td>421.0</td>\n",
       "      <td>0.004751</td>\n",
       "    </tr>\n",
       "    <tr>\n",
       "      <th>木工機械</th>\n",
       "      <td>0.0</td>\n",
       "      <td>0.0</td>\n",
       "      <td>3.0</td>\n",
       "      <td>0.0</td>\n",
       "      <td>1.0</td>\n",
       "      <td>0.0</td>\n",
       "      <td>0.0</td>\n",
       "      <td>4.0</td>\n",
       "      <td>0.000000</td>\n",
       "    </tr>\n",
       "    <tr>\n",
       "      <th>産業用ロボット</th>\n",
       "      <td>0.0</td>\n",
       "      <td>0.0</td>\n",
       "      <td>2.0</td>\n",
       "      <td>0.0</td>\n",
       "      <td>4.0</td>\n",
       "      <td>0.0</td>\n",
       "      <td>0.0</td>\n",
       "      <td>6.0</td>\n",
       "      <td>0.000000</td>\n",
       "    </tr>\n",
       "    <tr>\n",
       "      <th>計測機器</th>\n",
       "      <td>0.0</td>\n",
       "      <td>0.0</td>\n",
       "      <td>23.0</td>\n",
       "      <td>0.0</td>\n",
       "      <td>23.0</td>\n",
       "      <td>0.0</td>\n",
       "      <td>2.0</td>\n",
       "      <td>48.0</td>\n",
       "      <td>0.000000</td>\n",
       "    </tr>\n",
       "    <tr>\n",
       "      <th>通信機器</th>\n",
       "      <td>0.0</td>\n",
       "      <td>0.0</td>\n",
       "      <td>17.0</td>\n",
       "      <td>0.0</td>\n",
       "      <td>14.0</td>\n",
       "      <td>0.0</td>\n",
       "      <td>0.0</td>\n",
       "      <td>31.0</td>\n",
       "      <td>0.000000</td>\n",
       "    </tr>\n",
       "    <tr>\n",
       "      <th>運搬・昇降機械</th>\n",
       "      <td>0.0</td>\n",
       "      <td>0.0</td>\n",
       "      <td>2.0</td>\n",
       "      <td>0.0</td>\n",
       "      <td>6.0</td>\n",
       "      <td>0.0</td>\n",
       "      <td>0.0</td>\n",
       "      <td>8.0</td>\n",
       "      <td>0.000000</td>\n",
       "    </tr>\n",
       "    <tr>\n",
       "      <th>金属工作機械</th>\n",
       "      <td>3.0</td>\n",
       "      <td>0.0</td>\n",
       "      <td>18.0</td>\n",
       "      <td>0.0</td>\n",
       "      <td>35.0</td>\n",
       "      <td>0.0</td>\n",
       "      <td>2.0</td>\n",
       "      <td>58.0</td>\n",
       "      <td>0.000000</td>\n",
       "    </tr>\n",
       "    <tr>\n",
       "      <th>電子機器部品製造設備</th>\n",
       "      <td>0.0</td>\n",
       "      <td>0.0</td>\n",
       "      <td>1.0</td>\n",
       "      <td>0.0</td>\n",
       "      <td>1.0</td>\n",
       "      <td>0.0</td>\n",
       "      <td>0.0</td>\n",
       "      <td>2.0</td>\n",
       "      <td>0.000000</td>\n",
       "    </tr>\n",
       "    <tr>\n",
       "      <th>電子部品実装装置</th>\n",
       "      <td>0.0</td>\n",
       "      <td>0.0</td>\n",
       "      <td>1.0</td>\n",
       "      <td>0.0</td>\n",
       "      <td>0.0</td>\n",
       "      <td>0.0</td>\n",
       "      <td>0.0</td>\n",
       "      <td>1.0</td>\n",
       "      <td>0.000000</td>\n",
       "    </tr>\n",
       "    <tr>\n",
       "      <th>食料品製造機械</th>\n",
       "      <td>0.0</td>\n",
       "      <td>0.0</td>\n",
       "      <td>7.0</td>\n",
       "      <td>0.0</td>\n",
       "      <td>10.0</td>\n",
       "      <td>0.0</td>\n",
       "      <td>0.0</td>\n",
       "      <td>17.0</td>\n",
       "      <td>0.000000</td>\n",
       "    </tr>\n",
       "    <tr>\n",
       "      <th>All</th>\n",
       "      <td>41.0</td>\n",
       "      <td>2.0</td>\n",
       "      <td>593.0</td>\n",
       "      <td>5.0</td>\n",
       "      <td>1071.0</td>\n",
       "      <td>6.0</td>\n",
       "      <td>13.0</td>\n",
       "      <td>1731.0</td>\n",
       "      <td>0.001155</td>\n",
       "    </tr>\n",
       "  </tbody>\n",
       "</table>\n",
       "</div>"
      ],
      "text/plain": [
       "CNTYEAR           2014-04-01      2015-04-01      2016-04-01      2017-04-01  \\\n",
       "RDEF                   False True      False True      False True      False   \n",
       "EO_CA_MACHINETYPE                                                              \n",
       "その他                      1.0  0.0       26.0  0.0      110.0  0.0        0.0   \n",
       "その他情報機器                 11.0  0.0       79.0  2.0      140.0  0.0        0.0   \n",
       "その他産業機械                  4.0  0.0       26.0  2.0       51.0  0.0        0.0   \n",
       "ソフトウエア                   0.0  0.0        5.0  0.0        3.0  0.0        0.0   \n",
       "パソコン(DesktopPC)          0.0  0.0       11.0  0.0       16.0  0.0        0.0   \n",
       "パソコン(NotebookPC)         0.0  0.0        6.0  0.0       15.0  0.0        0.0   \n",
       "プラスチック射出成型機              0.0  0.0        0.0  0.0        1.0  0.0        0.0   \n",
       "事務用機器                    2.0  0.0       41.0  0.0       71.0  0.0        1.0   \n",
       "充填・包装設備                  0.0  0.0        7.0  0.0        6.0  0.0        0.0   \n",
       "医療機器                     0.0  0.0       14.0  0.0       17.0  0.0        0.0   \n",
       "印刷機械/製本機械                0.0  0.0       12.0  0.0       19.0  0.0        0.0   \n",
       "商業設備                     5.0  0.0       83.0  0.0      136.0  2.0        3.0   \n",
       "店舗設備                     7.0  0.0       83.0  0.0      115.0  0.0        2.0   \n",
       "建設機械                     8.0  2.0      126.0  1.0      277.0  4.0        3.0   \n",
       "木工機械                     0.0  0.0        3.0  0.0        1.0  0.0        0.0   \n",
       "産業用ロボット                  0.0  0.0        2.0  0.0        4.0  0.0        0.0   \n",
       "計測機器                     0.0  0.0       23.0  0.0       23.0  0.0        2.0   \n",
       "通信機器                     0.0  0.0       17.0  0.0       14.0  0.0        0.0   \n",
       "運搬・昇降機械                  0.0  0.0        2.0  0.0        6.0  0.0        0.0   \n",
       "金属工作機械                   3.0  0.0       18.0  0.0       35.0  0.0        2.0   \n",
       "電子機器部品製造設備               0.0  0.0        1.0  0.0        1.0  0.0        0.0   \n",
       "電子部品実装装置                 0.0  0.0        1.0  0.0        0.0  0.0        0.0   \n",
       "食料品製造機械                  0.0  0.0        7.0  0.0       10.0  0.0        0.0   \n",
       "All                     41.0  2.0      593.0  5.0     1071.0  6.0       13.0   \n",
       "\n",
       "CNTYEAR               All       pct  \n",
       "RDEF                                 \n",
       "EO_CA_MACHINETYPE                    \n",
       "その他                 137.0  0.000000  \n",
       "その他情報機器             232.0  0.000000  \n",
       "その他産業機械              83.0  0.000000  \n",
       "ソフトウエア                8.0  0.000000  \n",
       "パソコン(DesktopPC)      27.0  0.000000  \n",
       "パソコン(NotebookPC)     21.0  0.000000  \n",
       "プラスチック射出成型機           1.0  0.000000  \n",
       "事務用機器               115.0  0.000000  \n",
       "充填・包装設備              13.0  0.000000  \n",
       "医療機器                 31.0  0.000000  \n",
       "印刷機械/製本機械            31.0  0.000000  \n",
       "商業設備                229.0  0.000000  \n",
       "店舗設備                207.0  0.000000  \n",
       "建設機械                421.0  0.004751  \n",
       "木工機械                  4.0  0.000000  \n",
       "産業用ロボット               6.0  0.000000  \n",
       "計測機器                 48.0  0.000000  \n",
       "通信機器                 31.0  0.000000  \n",
       "運搬・昇降機械               8.0  0.000000  \n",
       "金属工作機械               58.0  0.000000  \n",
       "電子機器部品製造設備            2.0  0.000000  \n",
       "電子部品実装装置              1.0  0.000000  \n",
       "食料品製造機械              17.0  0.000000  \n",
       "All                1731.0  0.001155  "
      ]
     },
     "execution_count": 272,
     "metadata": {},
     "output_type": "execute_result"
    }
   ],
   "source": [
    "pd.pivot_table(MBDDC.pipe(lambda x:x.loc[x.EO_ACD_APPROVAL_KBN.isin([\"1\",\"2\"]),:]),\n",
    "               index=\"EO_CA_MACHINETYPE\",columns=[\"CNTYEAR\",\"RDEF\"],values=\"scoren\",aggfunc=\"count\",margins=\"All\",fill_value=0)\\\n",
    ".assign(pct=lambda x:x.iloc[:,1]/x.All)"
   ]
  },
  {
   "cell_type": "code",
   "execution_count": 269,
   "metadata": {
    "collapsed": false
   },
   "outputs": [
    {
     "data": {
      "text/plain": [
       "0.0037570577414361983"
      ]
     },
     "execution_count": 269,
     "metadata": {},
     "output_type": "execute_result"
    }
   ],
   "source": [
    "1-(1-0.0075)**(1/2)"
   ]
  },
  {
   "cell_type": "code",
   "execution_count": null,
   "metadata": {
    "collapsed": false
   },
   "outputs": [],
   "source": [
    "mxw.viewOnXL_new(MBDDC.query(\"PRED==1\")"
   ]
  },
  {
   "cell_type": "code",
   "execution_count": 128,
   "metadata": {
    "collapsed": false
   },
   "outputs": [
    {
     "data": {
      "text/html": [
       "<div>\n",
       "<table border=\"1\" class=\"dataframe\">\n",
       "  <thead>\n",
       "    <tr style=\"text-align: right;\">\n",
       "      <th></th>\n",
       "      <th>EO_CA_OEC</th>\n",
       "      <th>TDB_SCORE_APL</th>\n",
       "      <th>scoren</th>\n",
       "      <th>SALES_0</th>\n",
       "      <th>RATE</th>\n",
       "    </tr>\n",
       "  </thead>\n",
       "  <tbody>\n",
       "    <tr>\n",
       "      <th>3059</th>\n",
       "      <td>996000</td>\n",
       "      <td>50</td>\n",
       "      <td>141</td>\n",
       "      <td>173</td>\n",
       "      <td>0.005757</td>\n",
       "    </tr>\n",
       "    <tr>\n",
       "      <th>3292</th>\n",
       "      <td>6.45e+06</td>\n",
       "      <td>42</td>\n",
       "      <td>170</td>\n",
       "      <td>230</td>\n",
       "      <td>0.028043</td>\n",
       "    </tr>\n",
       "    <tr>\n",
       "      <th>1771</th>\n",
       "      <td>6e+06</td>\n",
       "      <td>39</td>\n",
       "      <td>161</td>\n",
       "      <td>175</td>\n",
       "      <td>0.034286</td>\n",
       "    </tr>\n",
       "    <tr>\n",
       "      <th>1429</th>\n",
       "      <td>8e+06</td>\n",
       "      <td>45</td>\n",
       "      <td>162</td>\n",
       "      <td>330</td>\n",
       "      <td>0.024242</td>\n",
       "    </tr>\n",
       "    <tr>\n",
       "      <th>3196</th>\n",
       "      <td>2.7e+06</td>\n",
       "      <td>42</td>\n",
       "      <td>144</td>\n",
       "      <td>1700</td>\n",
       "      <td>0.001588</td>\n",
       "    </tr>\n",
       "    <tr>\n",
       "      <th>1235</th>\n",
       "      <td>5e+06</td>\n",
       "      <td>52</td>\n",
       "      <td>149</td>\n",
       "      <td>644</td>\n",
       "      <td>0.007764</td>\n",
       "    </tr>\n",
       "    <tr>\n",
       "      <th>1618</th>\n",
       "      <td>9.8e+06</td>\n",
       "      <td>46</td>\n",
       "      <td>150</td>\n",
       "      <td>563</td>\n",
       "      <td>0.017407</td>\n",
       "    </tr>\n",
       "    <tr>\n",
       "      <th>1796</th>\n",
       "      <td>1.23564e+07</td>\n",
       "      <td>42</td>\n",
       "      <td>138</td>\n",
       "      <td>300</td>\n",
       "      <td>0.041188</td>\n",
       "    </tr>\n",
       "    <tr>\n",
       "      <th>1984</th>\n",
       "      <td>2.33e+06</td>\n",
       "      <td>-9</td>\n",
       "      <td>0</td>\n",
       "      <td>-9</td>\n",
       "      <td>NaN</td>\n",
       "    </tr>\n",
       "    <tr>\n",
       "      <th>102</th>\n",
       "      <td>2.09521e+06</td>\n",
       "      <td>52</td>\n",
       "      <td>176</td>\n",
       "      <td>1152</td>\n",
       "      <td>0.001819</td>\n",
       "    </tr>\n",
       "  </tbody>\n",
       "</table>\n",
       "</div>"
      ],
      "text/plain": [
       "        EO_CA_OEC TDB_SCORE_APL scoren SALES_0      RATE\n",
       "3059       996000            50    141     173  0.005757\n",
       "3292     6.45e+06            42    170     230  0.028043\n",
       "1771        6e+06            39    161     175  0.034286\n",
       "1429        8e+06            45    162     330  0.024242\n",
       "3196      2.7e+06            42    144    1700  0.001588\n",
       "1235        5e+06            52    149     644  0.007764\n",
       "1618      9.8e+06            46    150     563  0.017407\n",
       "1796  1.23564e+07            42    138     300  0.041188\n",
       "1984     2.33e+06            -9      0      -9       NaN\n",
       "102   2.09521e+06            52    176    1152  0.001819"
      ]
     },
     "execution_count": 128,
     "metadata": {},
     "output_type": "execute_result"
    }
   ],
   "source": [
    "mdata.sample(10)"
   ]
  },
  {
   "cell_type": "code",
   "execution_count": null,
   "metadata": {
    "collapsed": false
   },
   "outputs": [],
   "source": [
    "pd.DataFrame(bst.get_dump(),columns=[\"TREE\"]).TREE.str.replace(\"\\n\",\"-\")"
   ]
  },
  {
   "cell_type": "code",
   "execution_count": null,
   "metadata": {
    "collapsed": false
   },
   "outputs": [],
   "source": [
    "xgb.plot_importance(mod)"
   ]
  },
  {
   "cell_type": "code",
   "execution_count": 161,
   "metadata": {
    "collapsed": false
   },
   "outputs": [],
   "source": [
    "mdata2 = MBDDC.filter(regex=\"SALES_0|TDB_SCORE_APL|scoren|^RATE$|EO_CA_OEC\").dropna()"
   ]
  },
  {
   "cell_type": "code",
   "execution_count": null,
   "metadata": {
    "collapsed": false,
    "scrolled": false
   },
   "outputs": [],
   "source": [
    "fig = xgb.plot_tree(mod,num_trees=0)\n",
    "fig.figure.set_size_inches(25,20)"
   ]
  },
  {
   "cell_type": "code",
   "execution_count": null,
   "metadata": {
    "collapsed": false
   },
   "outputs": [],
   "source": [
    "bst.get_dump()[0]"
   ]
  },
  {
   "cell_type": "code",
   "execution_count": 242,
   "metadata": {
    "collapsed": false
   },
   "outputs": [
    {
     "data": {
      "text/html": [
       "<div>\n",
       "<table border=\"1\" class=\"dataframe\">\n",
       "  <thead>\n",
       "    <tr style=\"text-align: right;\">\n",
       "      <th></th>\n",
       "      <th>APL_NO</th>\n",
       "      <th>cdate</th>\n",
       "      <th>cfdate</th>\n",
       "      <th>texp</th>\n",
       "      <th>deal_final_decision_result</th>\n",
       "      <th>score_model_cd</th>\n",
       "      <th>score</th>\n",
       "      <th>cum_number_of_1dpd_apl</th>\n",
       "      <th>cum_number_of_30dpd_apl</th>\n",
       "      <th>minyukin_flg_Apl</th>\n",
       "      <th>...</th>\n",
       "      <th>DEFAULT_TRANSACTION_ID</th>\n",
       "      <th>BUSINESS_CLASS_y</th>\n",
       "      <th>DATAFROM</th>\n",
       "      <th>DSDATE</th>\n",
       "      <th>TRANSAID</th>\n",
       "      <th>RDEF</th>\n",
       "      <th>RDEF2</th>\n",
       "      <th>CNTYEAR</th>\n",
       "      <th>score_cat</th>\n",
       "      <th>score_cat2</th>\n",
       "    </tr>\n",
       "  </thead>\n",
       "  <tbody>\n",
       "  </tbody>\n",
       "</table>\n",
       "<p>0 rows × 512 columns</p>\n",
       "</div>"
      ],
      "text/plain": [
       "Empty DataFrame\n",
       "Columns: [APL_NO, cdate, cfdate, texp, deal_final_decision_result, score_model_cd, score, cum_number_of_1dpd_apl, cum_number_of_30dpd_apl, minyukin_flg_Apl, payment_situation_Apl, admin_sn, normal_count_apl, dayover_count_apl, monthover_count_apl, total_exposure, cnt_amt, rn_birthday_apl, representative_age, guarantor_birth_day_month, T_APL_NO, CAPP_TX_ID, CREATION_DATE, SOURCEAPPL, BUREAUNAME, BANKRUPTCY_I_APL, EMPLOYEE_COUNT_APL, FIN_RET_PERIOD_APL, FIN_RET_REPORT_TYPE_APL, FIN_RET_YM_APL, FOUNDED_YM_APL, G_DATA_REGISTER_DATE_APL, G_FLG_APL, INVESTIGATION_DATE_APL, LISTING_TYPE_APL, LOCATION_ZIP_APL, MUNICIPALITY_CD_APL, PROFIT_APL, RN_HOME_ZIP_APL, RN_KANA_APL, RN_NAME_APL, SALES_APL, STOCK_COUNT1_APL, STOCKHOLDER1_APL, TDB_ALLOTMENT_RATIO, TDB_CAPITAL_APL, TDB_DECLARED_INCOME, TDB_DECLARED_INCOME_DATE, TDB_ENTERPRISE_NAME, TDB_ENTERPRISE_NAME_KANA, TDB_ENTERPRISE_PLACE, TDB_MUNICIPALITY_OTHER, TDB_SCORE_APL, TDB_SCORE_HISTORY_APL, TDB_SERIESA_GROUP, TDB_STOCKHOLDER, TDB_SWITCHBOARD, UPDATE_DATE_APL, W_DATA_REGISTER_DATE_APL, W_FLG_APL, ACD_CD, ACD_EL, ACD_LR, ACD_OR, ACD_OUT, DECISION_CD, DECISION_COMMENT, DECLINE_APL_NO, DECLINE_CD, DECLINE_EXP_DT, EXTEND_DATA_1, EXTEND_DATA_2, EXTEND_DATA_3, EXTEND_DATA_4, EXTEND_DATA_5, EXTEND_DATA_6, EXTEND_DATA_7, EXTEND_DATA_8, EXTEND_DATA_9, EXTEND_DATA_10, JDG_EXP_DT, JDGSEQ_NO, NOT_ACD, SCORING_VAR, SCORING_VAR_SCORE, SEMCMT_CHK_FLG1, SEMCMT_CHK_FLG2, SEMCMT_DT, SEMCMT_ID, SEMCMT_LV_CD, SEMCMT_SUBJECT_CD, SEMCMT_SYMBOL, ACTIVE_PAYMENT_FGL_APL, BUSINESSPERIOD_COUNT_APL, CANCEL_ACT_FLG_APL, CNT_COUNT_APL, CONT_AMT_APL, CURR_MONTHLY_PAY_AMT_APL, DELAY_RATE_APL, DEPOSIT_METHOD_APL, ...]\n",
       "Index: []\n",
       "\n",
       "[0 rows x 512 columns]"
      ]
     },
     "execution_count": 242,
     "metadata": {},
     "output_type": "execute_result"
    }
   ],
   "source": [
    "MBDD.query(\"RDEF == True\").pipe(lambda x:x.loc[x.SUM_CD.isin([\"G12957\",\"644342\"])])"
   ]
  },
  {
   "cell_type": "code",
   "execution_count": 246,
   "metadata": {
    "collapsed": false
   },
   "outputs": [
    {
     "data": {
      "text/html": [
       "<div>\n",
       "<table border=\"1\" class=\"dataframe\">\n",
       "  <thead>\n",
       "    <tr style=\"text-align: right;\">\n",
       "      <th></th>\n",
       "      <th>APL_NO</th>\n",
       "      <th>cdate</th>\n",
       "      <th>cfdate</th>\n",
       "      <th>texp</th>\n",
       "      <th>deal_final_decision_result</th>\n",
       "      <th>score_model_cd</th>\n",
       "      <th>score</th>\n",
       "      <th>cum_number_of_1dpd_apl</th>\n",
       "      <th>cum_number_of_30dpd_apl</th>\n",
       "      <th>minyukin_flg_Apl</th>\n",
       "      <th>...</th>\n",
       "      <th>DEFAULT_TRANSACTION_ID</th>\n",
       "      <th>BUSINESS_CLASS_y</th>\n",
       "      <th>DATAFROM</th>\n",
       "      <th>DSDATE</th>\n",
       "      <th>TRANSAID</th>\n",
       "      <th>RDEF</th>\n",
       "      <th>RDEF2</th>\n",
       "      <th>CNTYEAR</th>\n",
       "      <th>score_cat</th>\n",
       "      <th>score_cat2</th>\n",
       "    </tr>\n",
       "  </thead>\n",
       "  <tbody>\n",
       "    <tr>\n",
       "      <th>31018</th>\n",
       "      <td>2-1U1UV3</td>\n",
       "      <td>2015-12-10 00:00:00</td>\n",
       "      <td>2015-12-10 00:00:00</td>\n",
       "      <td>40075653.0</td>\n",
       "      <td>3</td>\n",
       "      <td>o3</td>\n",
       "      <td>198</td>\n",
       "      <td>0</td>\n",
       "      <td>1</td>\n",
       "      <td>0</td>\n",
       "      <td>...</td>\n",
       "      <td>NaN</td>\n",
       "      <td>NaN</td>\n",
       "      <td>NaN</td>\n",
       "      <td>NaT</td>\n",
       "      <td>NaN</td>\n",
       "      <td>False</td>\n",
       "      <td>False</td>\n",
       "      <td>NaN</td>\n",
       "      <td>190 - 199</td>\n",
       "      <td>195 - 199</td>\n",
       "    </tr>\n",
       "    <tr>\n",
       "      <th>31019</th>\n",
       "      <td>2-1U1UXL</td>\n",
       "      <td>2015-12-10 00:00:00</td>\n",
       "      <td>2015-12-10 00:00:00</td>\n",
       "      <td>27475653.0</td>\n",
       "      <td>3</td>\n",
       "      <td>o3</td>\n",
       "      <td>198</td>\n",
       "      <td>0</td>\n",
       "      <td>1</td>\n",
       "      <td>0</td>\n",
       "      <td>...</td>\n",
       "      <td>NaN</td>\n",
       "      <td>NaN</td>\n",
       "      <td>NaN</td>\n",
       "      <td>NaT</td>\n",
       "      <td>NaN</td>\n",
       "      <td>False</td>\n",
       "      <td>False</td>\n",
       "      <td>NaN</td>\n",
       "      <td>190 - 199</td>\n",
       "      <td>195 - 199</td>\n",
       "    </tr>\n",
       "  </tbody>\n",
       "</table>\n",
       "<p>2 rows × 512 columns</p>\n",
       "</div>"
      ],
      "text/plain": [
       "         APL_NO                cdate               cfdate        texp  \\\n",
       "31018  2-1U1UV3  2015-12-10 00:00:00  2015-12-10 00:00:00  40075653.0   \n",
       "31019  2-1U1UXL  2015-12-10 00:00:00  2015-12-10 00:00:00  27475653.0   \n",
       "\n",
       "      deal_final_decision_result score_model_cd score cum_number_of_1dpd_apl  \\\n",
       "31018                          3             o3   198                      0   \n",
       "31019                          3             o3   198                      0   \n",
       "\n",
       "      cum_number_of_30dpd_apl minyukin_flg_Apl    ...      \\\n",
       "31018                       1                0    ...       \n",
       "31019                       1                0    ...       \n",
       "\n",
       "      DEFAULT_TRANSACTION_ID BUSINESS_CLASS_y DATAFROM DSDATE TRANSAID   RDEF  \\\n",
       "31018                    NaN              NaN      NaN    NaT      NaN  False   \n",
       "31019                    NaN              NaN      NaN    NaT      NaN  False   \n",
       "\n",
       "       RDEF2 CNTYEAR  score_cat score_cat2  \n",
       "31018  False     NaN  190 - 199  195 - 199  \n",
       "31019  False     NaN  190 - 199  195 - 199  \n",
       "\n",
       "[2 rows x 512 columns]"
      ]
     },
     "execution_count": 246,
     "metadata": {},
     "output_type": "execute_result"
    }
   ],
   "source": [
    "MBDD.pipe(lambda x:x.loc[x.CORPKANJI_NM_APL.str.contains(\"吉田工作所\").fillna(False),:])"
   ]
  },
  {
   "cell_type": "code",
   "execution_count": null,
   "metadata": {
    "collapsed": true
   },
   "outputs": [],
   "source": []
  }
 ],
 "metadata": {
  "kernelspec": {
   "display_name": "Python 3",
   "language": "python",
   "name": "python3"
  },
  "language_info": {
   "codemirror_mode": {
    "name": "ipython",
    "version": 3
   },
   "file_extension": ".py",
   "mimetype": "text/x-python",
   "name": "python",
   "nbconvert_exporter": "python",
   "pygments_lexer": "ipython3",
   "version": "3.5.1"
  }
 },
 "nbformat": 4,
 "nbformat_minor": 2
}
