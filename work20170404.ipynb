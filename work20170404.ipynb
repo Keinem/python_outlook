{
 "cells": [
  {
   "cell_type": "code",
   "execution_count": 1,
   "metadata": {
    "collapsed": false
   },
   "outputs": [],
   "source": [
    "import dill\n",
    "with open(r\"C:\\Users\\212392510\\Desktop\\共有用\\02_D_EF\\20170317_CF LOSS\\MBD20170404.dill\",\"rb\") as f:\n",
    "    MBD = dill.load(f)"
   ]
  },
  {
   "cell_type": "code",
   "execution_count": null,
   "metadata": {
    "collapsed": false
   },
   "outputs": [],
   "source": [
    "CFENT = pd.read_csv(r\"C:\\Users\\212392510\\Desktop\\共有用\\02_D_EF\\20170317_CF LOSS\\ACC-DCG_LIST_CF_2017-04-05-05-52-39.zip\",compression=\"zip\",\n",
    "                    header=0,sep='\\t',encoding=\"cp932\")"
   ]
  },
  {
   "cell_type": "code",
   "execution_count": 8,
   "metadata": {
    "collapsed": false,
    "scrolled": false
   },
   "outputs": [],
   "source": [
    "mxw.viewOnXL_new(CFENT.sample(500))"
   ]
  },
  {
   "cell_type": "markdown",
   "metadata": {},
   "source": [
    "管理債権（メールから取得）"
   ]
  },
  {
   "cell_type": "code",
   "execution_count": null,
   "metadata": {
    "collapsed": false
   },
   "outputs": [],
   "source": [
    "import win32com.client\n",
    "import re\n",
    "\n",
    "obj = win32com.client.Dispatch(\"Outlook.Application\")\n",
    "ns = obj.GetNamespace(\"MAPI\")\n",
    "folder = ns.GetDefaultFolder(6)\n",
    "\n",
    "fold = folder.Folders(r\"管理債権\")\n",
    "\n",
    "cnt = 0\n",
    "data = pd.DataFrame()\n",
    "for i in fold.Items:\n",
    "    data = pd.concat([data,pd.DataFrame({0:{'SUB':i.Subject,'Date':str(i.SentOn)}}).T],axis=0,ignore_index=True)\n",
    "\n",
    "data.Date = pd.to_datetime(data.Date)\n",
    "data.loc[:,'SUM_CD'] = data.SUB.str.extract('[\\(|（](?P<hit>[A-Z0-9]+?)[\\)|）]')"
   ]
  },
  {
   "cell_type": "code",
   "execution_count": null,
   "metadata": {
    "collapsed": false
   },
   "outputs": [],
   "source": [
    "data.sort_values([\"Date\"],ascending=False)"
   ]
  },
  {
   "cell_type": "markdown",
   "metadata": {},
   "source": [
    "デフォルトデータ"
   ]
  },
  {
   "cell_type": "code",
   "execution_count": 11,
   "metadata": {
    "collapsed": true
   },
   "outputs": [],
   "source": [
    "sqlstr = \"SELECT A.deal_id,\" + \\\n",
    "\"        A.transaction_id as trnsA,B.transaction_id as trnsB,\" + \\\n",
    "\"        A.import_time as impdA,B.import_time as impdB,\" + \\\n",
    "\"        A.exposure_amount,A.days_past_due_cnt,\" + \\\n",
    "\"        B.p_kubun,B.sor_party_id,B.party_role \" + \\\n",
    "\"FROM DBO.TRANSACTION_FACILITY A \" + \\\n",
    "\"FULL OUTER JOIN DBO.TRANSACTION_PARTY B \" + \\\n",
    "\"ON A.TRANSACTION_ID = B.TRANSACTION_ID AND A.IMPORT_TIME = B.IMPORT_TIME \" + \\\n",
    "\"where B.p_kubun = 'P1' AND days_past_due_cnt > 0\"\n",
    "\n",
    "IRISD = pd.read_sql(sqlstr,cns.JEDW)\n",
    "DLQD = IRISD.query('days_past_due_cnt >= 30 & party_role == \"BORROWER\"')\\\n",
    "         .sort_values(['deal_id','days_past_due_cnt','impdA'])\\\n",
    "         .groupby(['deal_id']).nth(-1).loc[:,['impdA','days_past_due_cnt']].reset_index()"
   ]
  },
  {
   "cell_type": "code",
   "execution_count": 12,
   "metadata": {
    "collapsed": true
   },
   "outputs": [],
   "source": [
    "# TRANSACTION_IDの変換用関数\n",
    "def creanTRANNO(x):\n",
    "    if len(x) in [11,12] :\n",
    "        return(x[0:-3])\n",
    "    else:\n",
    "        if x[-5:] == \"00101\":\n",
    "            return(x[0:-5])\n",
    "        else:\n",
    "            return(x)\n",
    "\n",
    "JDEFS = pd.read_sql(\"SELECT * FROM DEFAULT_TRANSACTION\",cns.JEDW)\n",
    "JDEFS.loc[:,'DSDATE'] = JDEFS.DEFAULT_EPISODE_START_DATE.apply(lambda x:pd.datetime.strptime(x,'%m/%d/%Y') if x != \"\" else \"\")\n",
    "DEFS = pd.read_sql(\"SELECT * FROM DEFAULT_TRANSACTION\",cns.EDWADMIN)\n",
    "DEFS.loc[:,'DSDATE'] =  pd.to_datetime(DEFS.DEFAULT_EPISODE_START_DATE)\n",
    "DEFDATA = pd.concat([DEFS,JDEFS]).assign(TRANSAID = lambda x:x.DEFAULT_TRANSACTION_ID.apply(creanTRANNO))\\\n",
    "                     .filter(regex=\"TRANSA|DSDATE|BUS|DATAFROM\")\\\n",
    "                     .sort_values(['DEFAULT_TRANSACTION_ID','DSDATE']).groupby(['DEFAULT_TRANSACTION_ID']).nth([0]).reset_index()"
   ]
  },
  {
   "cell_type": "code",
   "execution_count": 13,
   "metadata": {
    "collapsed": true
   },
   "outputs": [],
   "source": [
    "CFWO = pd.read_sql(\"SELECT * FROM CFWO\",cns.SMERISK)\n",
    "CFREC = pd.read_sql(\"SELECT * FROM CFREC\",cns.SMERISK)\n",
    "CFWOREC = pd.merge(left=CFWO.groupby(['cont_no']).WO_Amount.sum().reset_index(),\n",
    "                                  right=CFREC.groupby(['cont_no']).Recovery_Amount.sum().reset_index(),\n",
    "                                  left_on=['cont_no'],right_on=['cont_no'],how='outer',indicator=\"WORECMG\")"
   ]
  },
  {
   "cell_type": "code",
   "execution_count": 14,
   "metadata": {
    "collapsed": false
   },
   "outputs": [],
   "source": [
    "MBDD = MBD.pipe(lambda x:pd.merge(left=x,right=DLQD,left_on=['KEIYAKUNO'],right_on=['deal_id'],how=\"left\"))\\\n",
    "                    .assign(WOFLG = lambda x:x.KEIYAKUNO.isin(CFWO.cont_no))\\\n",
    "                    .assign(KANRI = lambda x:x.SUM_CD.isin(list(data.SUM_CD.dropna().unique()) + [\"SEWKTT\"]))\\\n",
    "                    .pipe(lambda x:pd.merge(left=x,right=CFWOREC,left_on=['KEIYAKUNO'],right_on=['cont_no'],how='left'))\\\n",
    "                    .pipe(lambda x:pd.merge(left=x,right=DEFDATA,left_on=['KEIYAKUNO'],right_on=['TRANSAID'],how='left'))\\\n",
    "                    .assign(RDEF = lambda x:((x.WOFLG == True)|(x.KANRI==True)))\\\n",
    "                    .assign(RDEF2 = lambda x:((x.WOFLG == True)|(x.KANRI==True)|(~x.DSDATE.isnull())))"
   ]
  },
  {
   "cell_type": "code",
   "execution_count": 15,
   "metadata": {
    "collapsed": false
   },
   "outputs": [],
   "source": [
    "# 年度データの作成\n",
    "MBDD.loc[~MBDD.EO_CONTRACTDATE.isnull(),'CNTYEAR'] = \\\n",
    "MBDD.loc[~MBDD.EO_CONTRACTDATE.isnull(),:].EO_CONTRACTDATE.dt.date - relativedelta(months=3)+ relativedelta(month=4,day=1)"
   ]
  },
  {
   "cell_type": "code",
   "execution_count": 16,
   "metadata": {
    "collapsed": true
   },
   "outputs": [],
   "source": [
    "# ACDスコア\n",
    "labels2 = [\"{0} - {1}\".format(i*10,i*10 + 9) for i in range(10,21)]\n",
    "labels3 = [\"{0} - {1}\".format(i*5,i*5 + 4) for i in range(20,43)]\n",
    "MBDD.loc[~MBDD.scoren.isnull(),'score_cat'] =MBDD.pipe(lambda x:pd.cut(x.scoren.dropna(),[i*10 for i in range(10,22)],labels=labels2,right=False))\n",
    "MBDD.loc[~MBDD.scoren.isnull(),'score_cat2'] =MBDD.pipe(lambda x:pd.cut(x.scoren.dropna(),[i*5 for i in range(20,44)],labels=labels3,right=False))"
   ]
  },
  {
   "cell_type": "markdown",
   "metadata": {},
   "source": [
    "顧客ベースデータ"
   ]
  },
  {
   "cell_type": "code",
   "execution_count": 20,
   "metadata": {
    "collapsed": false
   },
   "outputs": [],
   "source": [
    "MBDDC = MBDD.sort_values(['SUM_CD','CNTYEAR','RDEF']).groupby(['SUM_CD','CNTYEAR']).nth(-1).reset_index()\\\n",
    "               .pipe(lambda x:x.loc[~x.CREATION_DATE_FIRST.isnull(),:])\\\n",
    "               .assign(YEAR = lambda x:x.CREATION_DATE_FIRST.dt.year)"
   ]
  },
  {
   "cell_type": "code",
   "execution_count": 41,
   "metadata": {
    "collapsed": false
   },
   "outputs": [],
   "source": [
    "SCORE_SUM = pd.pivot_table(MBDDC.pipe(lambda x:x.loc[(~x.KEIYAKUNO.isnull()) & \n",
    "                                 ((x.EO_ACD_APPROVAL_KBN.isin(['1','2']))|(x.EO_CA_ACDRINGI == 'Y')),:]),index=['score_cat'],\\\n",
    "                      columns=['CNTYEAR','RDEF'],values=\"APL_NO\",aggfunc=\"count\",fill_value=0,margins=True)"
   ]
  },
  {
   "cell_type": "code",
   "execution_count": 21,
   "metadata": {
    "collapsed": false
   },
   "outputs": [],
   "source": [
    "labels_sl = [\"{0} - {1}\".format(i*0.5,i*0.5 + 0.5) for i in range(0,19)]\n",
    "MBDDC = MBDDC.pipe(lambda x:pd.concat([x,x.SALES_APL.str.split(\",\",expand=True).add_prefix(\"SALES_\")],axis=1))\\\n",
    "                          .assign(LSALE = lambda x:x.SALES_0.astype('float64').apply(lambda y:np.log10(y) if np.float64(y) > 0 else None))\n",
    "MBDDC.loc[~MBDDC.LSALE.isnull(),'LSALEC'] = pd.cut(MBDDC.LSALE.dropna(),[i*0.5 for i in range(0,20)],labels=labels_sl,right=False)"
   ]
  },
  {
   "cell_type": "code",
   "execution_count": 22,
   "metadata": {
    "collapsed": false
   },
   "outputs": [],
   "source": [
    "MBDDC = MBDDC.assign(\n",
    "    RATE = lambda x:x.apply(lambda y:np.float64(y.EO_CA_OEC)/(np.float64(y.SALES_0)*1000000) if np.float64(y.SALES_0) > 0 else None,axis=1))"
   ]
  },
  {
   "cell_type": "code",
   "execution_count": 45,
   "metadata": {
    "collapsed": false
   },
   "outputs": [],
   "source": [
    "import seaborn as sns\n",
    "%matplotlib inline\n",
    "fig = plt.scatter(x=MBDDC.LSALE,y=MBDDC.scoren,c=MBDDC.RDEF)\n",
    "fig.figure.set_size_inches(8,8)"
   ]
  },
  {
   "cell_type": "code",
   "execution_count": null,
   "metadata": {
    "collapsed": false
   },
   "outputs": [],
   "source": [
    "MBDDC.SALES_0"
   ]
  },
  {
   "cell_type": "code",
   "execution_count": null,
   "metadata": {
    "collapsed": false
   },
   "outputs": [],
   "source": [
    "fig = plt.scatter(x=MBDDC.RATE,y=MBDDC.scoren,c=MBDDC.RDEF,marker=\".\")\n",
    "fig.figure.set_size_inches(12,12)"
   ]
  },
  {
   "cell_type": "code",
   "execution_count": 162,
   "metadata": {
    "collapsed": false
   },
   "outputs": [],
   "source": [
    "mdata = MBDDC.filter(regex=\"SALES_0|TDB_SCORE_APL|scoren|^RATE$|EO_CA_OEC\")\\\n",
    "                        #.pipe(lambda x:pd.concat([x,pd.get_dummies(MBDDC.EO_CA_MACHINETYPE)],axis=1))"
   ]
  },
  {
   "cell_type": "code",
   "execution_count": 47,
   "metadata": {
    "collapsed": false
   },
   "outputs": [],
   "source": [
    "import xgboost as xgb\n",
    "import scipy as sp\n",
    "from sklearn.model_selection import GridSearchCV,RandomizedSearchCV\n",
    "from sklearn.metrics import confusion_matrix,accuracy_score"
   ]
  },
  {
   "cell_type": "markdown",
   "metadata": {},
   "source": [
    "RandomizedSearchでパラメータを調整"
   ]
  },
  {
   "cell_type": "code",
   "execution_count": 167,
   "metadata": {
    "collapsed": false
   },
   "outputs": [
    {
     "name": "stdout",
     "output_type": "stream",
     "text": [
      "{'max_depth': 5, 'n_estimators': 3, 'subsample': 0.76586457665924734, 'learning_rate': 0.575486281603242}\n"
     ]
    }
   ],
   "source": [
    "params = {'learning_rate':sp.stats.uniform(0.0,0.6),\n",
    "                 'max_depth':sp.stats.randint(1,6),\n",
    "                 'subsample':sp.stats.uniform(0.7,0.3),\n",
    "                 'n_estimators':sp.stats.randint(1,4)}\n",
    "\n",
    "weight = MBDDC.RDEF.apply(lambda x: 50 if x else 1)\n",
    "clf2 = xgb.XGBClassifier(reg_alpha=1.3,objective='binary:logistic')\n",
    "clf2_cv = RandomizedSearchCV(clf2,params,fit_params={'sample_weight':weight},cv=5,n_iter=100,scoring=\"neg_log_loss\")\n",
    "mod2 = clf2_cv.fit(mdata.as_matrix(),MBDDC.RDEF.apply(lambda x:1 if x else 0))\n",
    "pred2 = clf2_cv.predict(mdata.as_matrix())\n",
    "print(clf2_cv.best_params_)"
   ]
  },
  {
   "cell_type": "code",
   "execution_count": 168,
   "metadata": {
    "collapsed": false
   },
   "outputs": [
    {
     "name": "stdout",
     "output_type": "stream",
     "text": [
      "[[3446    1]\n",
      " [  66   17]]\n",
      "0.981019830028\n"
     ]
    }
   ],
   "source": [
    "print(confusion_matrix(pred2,MBDDC.RDEF.apply(lambda x:1 if x else 0)))\n",
    "print(accuracy_score(pred2,MBDDC.RDEF.apply(lambda x:1 if x else 0)))"
   ]
  },
  {
   "cell_type": "code",
   "execution_count": 95,
   "metadata": {
    "collapsed": false
   },
   "outputs": [
    {
     "data": {
      "text/plain": [
       "XGBClassifier(base_score=0.5, colsample_bylevel=1, colsample_bytree=1,\n",
       "       gamma=0, learning_rate=0.4838948438142765, max_delta_step=0,\n",
       "       max_depth=5, min_child_weight=1, missing=None, n_estimators=3,\n",
       "       nthread=-1, objective='binary:logistic', reg_alpha=1.3,\n",
       "       reg_lambda=1, scale_pos_weight=1, seed=0, silent=True,\n",
       "       subsample=0.85213689105640589)"
      ]
     },
     "execution_count": 95,
     "metadata": {},
     "output_type": "execute_result"
    }
   ],
   "source": [
    "mod2.best_estimator_"
   ]
  },
  {
   "cell_type": "code",
   "execution_count": null,
   "metadata": {
    "collapsed": false
   },
   "outputs": [],
   "source": [
    "import seaborn as sns\n",
    "%matplotlib inline\n",
    "fig = xgb.plot_importance(mod2.best_estimator_)\n",
    "fig.figure.set_size_inches(12,8)"
   ]
  },
  {
   "cell_type": "code",
   "execution_count": null,
   "metadata": {
    "collapsed": false
   },
   "outputs": [],
   "source": [
    "fig = xgb.plot_tree(mod2.best_estimator_,num_trees=2)\n",
    "fig.figure.set_size_inches(25,20)"
   ]
  },
  {
   "cell_type": "code",
   "execution_count": 103,
   "metadata": {
    "collapsed": false
   },
   "outputs": [],
   "source": [
    "MBDDC.loc[:,'PRED_RS'] = pred2"
   ]
  },
  {
   "cell_type": "code",
   "execution_count": 106,
   "metadata": {
    "collapsed": false
   },
   "outputs": [],
   "source": [
    "mxw.viewOnXL_new(\n",
    "MBDDC.query(\"PRED_RS == 1\").filter(regex=\"CORPKANJI|SALES_|LSALE|RDEF|^RATE$|TDB_SCORE|score|PRED|EO_CA_OEC|MACHINE|deal_final_decision\"))"
   ]
  },
  {
   "cell_type": "code",
   "execution_count": null,
   "metadata": {
    "collapsed": false
   },
   "outputs": [],
   "source": [
    "pd.DataFrame({\"feature\":pd.Series(list(mdata.columns)),\"imp\":pd.Series(mod2.best_estimator_.feature_importances_)}).sort_values(['imp'],ascending=False)"
   ]
  },
  {
   "cell_type": "code",
   "execution_count": null,
   "metadata": {
    "collapsed": true
   },
   "outputs": [],
   "source": []
  },
  {
   "cell_type": "markdown",
   "metadata": {},
   "source": [
    "手でパラメータ調整"
   ]
  },
  {
   "cell_type": "code",
   "execution_count": 335,
   "metadata": {
    "collapsed": true
   },
   "outputs": [],
   "source": [
    "import xgboost as xgb\n",
    "clf = xgb.XGBClassifier(learning_rate=0.01,max_depth=6,n_estimators=3,subsample=0.9,reg_alpha=1.3,objective=\"binary:logistic\")"
   ]
  },
  {
   "cell_type": "code",
   "execution_count": 336,
   "metadata": {
    "collapsed": false
   },
   "outputs": [
    {
     "name": "stdout",
     "output_type": "stream",
     "text": [
      "[[3455    1]\n",
      " [  57   17]]\n",
      "0.983569405099\n"
     ]
    }
   ],
   "source": [
    "weight = MBDDC.RDEF.apply(lambda x: 33 if x else 1)\n",
    "mod = clf.fit(mdata.as_matrix(),MBDDC.RDEF.apply(lambda x:1 if x else 0),sample_weight=weight)\n",
    "bst = mod.booster()\n",
    "pred = clf.predict(mdata.as_matrix())\n",
    "from sklearn.metrics import confusion_matrix,accuracy_score\n",
    "print(confusion_matrix(pred,MBDDC.RDEF.apply(lambda x:1 if x else 0)))\n",
    "print(accuracy_score(pred,MBDDC.RDEF.apply(lambda x:1 if x else 0)))\n",
    "MBDDC.loc[:,'PRED'] = pred"
   ]
  },
  {
   "cell_type": "markdown",
   "metadata": {},
   "source": [
    "フィットさせるためにCVをやる場合"
   ]
  },
  {
   "cell_type": "code",
   "execution_count": 274,
   "metadata": {
    "collapsed": true
   },
   "outputs": [],
   "source": [
    "params = {\"leaning_rate\":0.2,\"max_depth\":6,\"n_estimators\":3,\"reg_alpha\":0.5,\"objective\":\"binary:logistic\"}\n",
    "dtrain = xgb.DMatrix(mdata.as_matrix(),label=MBDDC.RDEF.apply(lambda x:1 if x else 0),feature_names=mdata.columns)\n",
    "cv = xgb.cv(params,dtrain,num_boost_round=3,nfold=30)\n",
    "cv.loc[:,['train-error-mean','train-error-std']].plot()\n",
    "bst2 = xgb.train(params,dtrain,num_boost_round=100)"
   ]
  },
  {
   "cell_type": "markdown",
   "metadata": {},
   "source": [
    "------------------------------------"
   ]
  },
  {
   "cell_type": "code",
   "execution_count": null,
   "metadata": {
    "collapsed": false
   },
   "outputs": [],
   "source": [
    "pd.pivot_table(MBDDC,index='PRED',columns=None,values=['RATE'],aggfunc=\"mean\",fill_value=0)"
   ]
  },
  {
   "cell_type": "code",
   "execution_count": null,
   "metadata": {
    "collapsed": false
   },
   "outputs": [],
   "source": [
    "pd.pivot_table(MBDDC,index='RDEF',columns=None,values=['RATE'],aggfunc=\"mean\",fill_value=0)"
   ]
  },
  {
   "cell_type": "code",
   "execution_count": 164,
   "metadata": {
    "collapsed": false
   },
   "outputs": [
    {
     "name": "stderr",
     "output_type": "stream",
     "text": [
      "C:\\Users\\212392510\\AppData\\Local\\Continuum\\Anaconda3\\lib\\site-packages\\xlwings\\_xlwindows.py:1024: FutureWarning:\n",
      "\n",
      "to_datetime is deprecated. Use self.to_pydatetime()\n",
      "\n"
     ]
    }
   ],
   "source": [
    "mxw.viewOnXL_new(MBDDC.query('RDEF==True'))"
   ]
  },
  {
   "cell_type": "code",
   "execution_count": 234,
   "metadata": {
    "collapsed": false
   },
   "outputs": [],
   "source": [
    "mxw.viewOnXL_new(MBDDC.query('(RATE > 0.1) & (deal_final_decision_result != 3) | (RDEF == True)')\\\n",
    "                 .filter(regex=\"CORPKANJI|SALES_|LSALE|RDEF|^RATE$|TDB_SCORE|score|PRED|EO_CA_OEC|MACHINE|deal_final_decision\"))"
   ]
  },
  {
   "cell_type": "code",
   "execution_count": 155,
   "metadata": {
    "collapsed": true
   },
   "outputs": [],
   "source": [
    "def plotGrid(data,tgtval,x_size,y_size,**kwargs):\n",
    "    g = sns.FacetGrid(data,**kwargs)\n",
    "    g.map(sns.distplot,tgtval)\n",
    "    g.fig.set_size_inches(x_size,y_size)"
   ]
  },
  {
   "cell_type": "code",
   "execution_count": null,
   "metadata": {
    "collapsed": false
   },
   "outputs": [],
   "source": [
    "plotGrid(MBDDC,'RATE',12,12,row='PRED')"
   ]
  },
  {
   "cell_type": "code",
   "execution_count": null,
   "metadata": {
    "collapsed": false
   },
   "outputs": [],
   "source": [
    "fig = xgb.plot_tree(mod,num_trees=0)\n",
    "fig.figure.set_size_inches(25,20)"
   ]
  },
  {
   "cell_type": "markdown",
   "metadata": {},
   "source": [
    "集計して建機の比率を見てみる"
   ]
  },
  {
   "cell_type": "code",
   "execution_count": null,
   "metadata": {
    "collapsed": false
   },
   "outputs": [],
   "source": [
    "pd.pivot_table(MBDDC.pipe(lambda x:x.loc[x.EO_ACD_APPROVAL_KBN.isin([\"1\",\"2\"]),:]),\n",
    "               index=\"EO_CA_MACHINETYPE\",columns=[\"CNTYEAR\",\"RDEF\"],values=\"scoren\",aggfunc=\"count\",margins=\"All\",fill_value=0)\\\n",
    ".assign(pct=lambda x:x.iloc[:,1]/x.All)"
   ]
  },
  {
   "cell_type": "code",
   "execution_count": 269,
   "metadata": {
    "collapsed": false
   },
   "outputs": [
    {
     "data": {
      "text/plain": [
       "0.0037570577414361983"
      ]
     },
     "execution_count": 269,
     "metadata": {},
     "output_type": "execute_result"
    }
   ],
   "source": [
    "1-(1-0.0075)**(1/2)"
   ]
  },
  {
   "cell_type": "code",
   "execution_count": null,
   "metadata": {
    "collapsed": false
   },
   "outputs": [],
   "source": [
    "mxw.viewOnXL_new(MBDDC.query(\"PRED==1\")"
   ]
  },
  {
   "cell_type": "code",
   "execution_count": null,
   "metadata": {
    "collapsed": false
   },
   "outputs": [],
   "source": [
    "mdata.sample(10)"
   ]
  },
  {
   "cell_type": "code",
   "execution_count": null,
   "metadata": {
    "collapsed": false
   },
   "outputs": [],
   "source": [
    "pd.DataFrame(bst.get_dump(),columns=[\"TREE\"]).TREE.str.replace(\"\\n\",\"-\")"
   ]
  },
  {
   "cell_type": "code",
   "execution_count": null,
   "metadata": {
    "collapsed": false
   },
   "outputs": [],
   "source": [
    "xgb.plot_importance(mod)"
   ]
  },
  {
   "cell_type": "code",
   "execution_count": 161,
   "metadata": {
    "collapsed": false
   },
   "outputs": [],
   "source": [
    "mdata2 = MBDDC.filter(regex=\"SALES_0|TDB_SCORE_APL|scoren|^RATE$|EO_CA_OEC\").dropna()"
   ]
  },
  {
   "cell_type": "code",
   "execution_count": null,
   "metadata": {
    "collapsed": false,
    "scrolled": false
   },
   "outputs": [],
   "source": [
    "fig = xgb.plot_tree(mod,num_trees=0)\n",
    "fig.figure.set_size_inches(25,20)"
   ]
  },
  {
   "cell_type": "code",
   "execution_count": null,
   "metadata": {
    "collapsed": false
   },
   "outputs": [],
   "source": [
    "bst.get_dump()[0]"
   ]
  },
  {
   "cell_type": "code",
   "execution_count": null,
   "metadata": {
    "collapsed": false
   },
   "outputs": [],
   "source": [
    "MBDD.query(\"RDEF == True\").pipe(lambda x:x.loc[x.SUM_CD.isin([\"G12957\",\"644342\"])])"
   ]
  },
  {
   "cell_type": "code",
   "execution_count": null,
   "metadata": {
    "collapsed": false
   },
   "outputs": [],
   "source": [
    "MBDD.pipe(lambda x:x.loc[x.CORPKANJI_NM_APL.str.contains(\"吉田工作所\").fillna(False),:])"
   ]
  },
  {
   "cell_type": "code",
   "execution_count": null,
   "metadata": {
    "collapsed": true
   },
   "outputs": [],
   "source": []
  }
 ],
 "metadata": {
  "kernelspec": {
   "display_name": "Python 3",
   "language": "python",
   "name": "python3"
  },
  "language_info": {
   "codemirror_mode": {
    "name": "ipython",
    "version": 3
   },
   "file_extension": ".py",
   "mimetype": "text/x-python",
   "name": "python",
   "nbconvert_exporter": "python",
   "pygments_lexer": "ipython3",
   "version": "3.5.1"
  }
 },
 "nbformat": 4,
 "nbformat_minor": 2
}
