{
 "cells": [
  {
   "cell_type": "code",
   "execution_count": null,
   "metadata": {
    "collapsed": true
   },
   "outputs": [],
   "source": [
    "import win32com.client\n",
    "import re\n",
    "import pandas as pd\n",
    "\n",
    "object = win32com.client.Dispatch(\"Outlook.Application\")\n",
    "ns      = object.GetNamespace(\"MAPI\")\n",
    "folder = ns.GetDefaultFolder(6)\n",
    "\n",
    "flds = ns.folders\n",
    "\n",
    "for fld in flds:\n",
    "    print(fld.Name)\n",
    "\n",
    "print(folder.Name)\n",
    "\n",
    "folder6 = folder.Folders(r'管理債権')\n",
    "cnt = 0\n",
    "#print(folder3.Items.Count)\n",
    "print(folder6.Items.Count)\n",
    "\n",
    "for i in folder.Items:\n",
    "    if re.search(r\"管理債権\",i.Subject) is not None:\n",
    "        i.Move(folder6)\n",
    "        cnt += 1"
   ]
  }
 ],
 "metadata": {
  "kernelspec": {
   "display_name": "Python 3",
   "language": "python",
   "name": "python3"
  },
  "language_info": {
   "codemirror_mode": {
    "name": "ipython",
    "version": 3
   },
   "file_extension": ".py",
   "mimetype": "text/x-python",
   "name": "python",
   "nbconvert_exporter": "python",
   "pygments_lexer": "ipython3",
   "version": "3.5.1"
  }
 },
 "nbformat": 4,
 "nbformat_minor": 0
}
