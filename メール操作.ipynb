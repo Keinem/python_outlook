{
 "cells": [
  {
   "cell_type": "markdown",
   "metadata": {},
   "source": [
    "|名前|値|説明|\n",
    "|:---:|:---:|\n",
    "|olFolderCalendar|9|予定表フォルダ。|\n",
    "|olFolderConflicts|19|競合フォルダ (同期の失敗フォルダのサブフォルダ)。<br>Exchange アカウントの場合のみ。|\n",
    "|olFolderContacts|10|連絡先フォルダ。|\n",
    "|olFolderDeletedItems|3|削除済みアイテム フォルダ。|\n",
    "|olFolderDrafts|16|下書きフォルダ。|\n",
    "|olFolderInbox|6|受信トレイ フォルダ。|\n",
    "|olFolderJournal|11|履歴フォルダ。|\n",
    "|olFolderJunk|23|迷惑メール フォルダ。|\n",
    "|olFolderLocalFailures|21|ローカルの失敗フォルダ (同期の失敗フォルダのサブフォルダ)。<br>Exchange アカウントの場合のみ。|\n",
    "|olFolderManagedEmail|29|管理対象のフォルダ グループの最上位フォルダ。<br>管理対象のフォルダについて詳しくは、Microsoft Office Outlook のヘルプを参照。<br>Exchange アカウントの場合のみ。|\n",
    "|olFolderNotes|12|メモ フォルダ。|\n",
    "|olFolderOutbox|4|送信トレイ フォルダ。|\n",
    "|olFolderSentMail|5|送信済みアイテム フォルダ。|\n",
    "|olFolderServerFailures|22|サーバーの失敗フォルダ (同期の失敗フォルダのサブフォルダ)。<br>Exchange アカウントの場合のみ。|\n",
    "|olFolderSyncIssues|20|同期の失敗フォルダ。Exchange アカウントの場合のみ。|\n",
    "|olFolderTasks|13|仕事フォルダ。|\n",
    "|olFolderToDo|28|To Do フォルダ。|\n",
    "|olPublicFoldersAllPublicFolders|18|Exchange パブリック フォルダ ストア内の All Public Folders フォルダ。<br>Exchange アカウントの場合のみ。|\n",
    "|olFolderRssFeeds|25|RSS フィード フォルダ。|"
   ]
  },
  {
   "cell_type": "code",
   "execution_count": null,
   "metadata": {
    "collapsed": true
   },
   "outputs": [],
   "source": [
    "import win32com.client\n",
    "import re\n",
    "import pandas as pd\n",
    "\n",
    "object = win32com.client.Dispatch(\"Outlook.Application\")\n",
    "ns      = object.GetNamespace(\"MAPI\")\n",
    "folder = ns.GetDefaultFolder(6)\n",
    "\n",
    "flds = ns.folders\n",
    "\n",
    "for fld in flds:\n",
    "    print(fld.Name)\n",
    "\n",
    "print(folder.Name)\n",
    "\n",
    "folder6 = folder.Folders(r'管理債権')\n",
    "cnt = 0\n",
    "#print(folder3.Items.Count)\n",
    "print(folder6.Items.Count)\n",
    "\n",
    "for i in folder.Items:\n",
    "    if re.search(r\"管理債権\",i.Subject) is not None:\n",
    "        i.Move(folder6)\n",
    "        cnt += 1"
   ]
  }
 ],
 "metadata": {
  "kernelspec": {
   "display_name": "Python 3",
   "language": "python",
   "name": "python3"
  },
  "language_info": {
   "codemirror_mode": {
    "name": "ipython",
    "version": 3
   },
   "file_extension": ".py",
   "mimetype": "text/x-python",
   "name": "python",
   "nbconvert_exporter": "python",
   "pygments_lexer": "ipython3",
   "version": "3.5.1"
  }
 },
 "nbformat": 4,
 "nbformat_minor": 0
}
